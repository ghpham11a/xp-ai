{
 "cells": [
  {
   "cell_type": "code",
   "execution_count": 0,
   "metadata": {
    "application/vnd.databricks.v1+cell": {
     "cellMetadata": {
      "byteLimit": 2048000,
      "rowLimit": 10000
     },
     "inputWidgets": {},
     "nuid": "6ecc2175-ef24-4ed5-8037-7f4056a1c8e8",
     "showTitle": false,
     "tableResultSettingsMap": {},
     "title": ""
    }
   },
   "outputs": [],
   "source": [
    "from pyspark.sql import SparkSession\n",
    "spark = SparkSession.builder.appName(\"mytree\").getOrCreate()"
   ]
  },
  {
   "cell_type": "code",
   "execution_count": 0,
   "metadata": {
    "application/vnd.databricks.v1+cell": {
     "cellMetadata": {
      "byteLimit": 2048000,
      "rowLimit": 10000
     },
     "inputWidgets": {},
     "nuid": "c9dec673-a4d5-48e4-a8e4-37ecc12b2a04",
     "showTitle": false,
     "tableResultSettingsMap": {},
     "title": ""
    }
   },
   "outputs": [],
   "source": [
    "from pyspark.ml import Pipeline"
   ]
  },
  {
   "cell_type": "code",
   "execution_count": 0,
   "metadata": {
    "application/vnd.databricks.v1+cell": {
     "cellMetadata": {
      "byteLimit": 2048000,
      "rowLimit": 10000
     },
     "inputWidgets": {},
     "nuid": "b98e3f6e-043e-4ada-8ee6-73ab729a6a4b",
     "showTitle": false,
     "tableResultSettingsMap": {},
     "title": ""
    }
   },
   "outputs": [],
   "source": [
    "from pyspark.ml.classification import RandomForestClassifier, GBTClassifier, DecisionTreeClassifier"
   ]
  },
  {
   "cell_type": "code",
   "execution_count": 0,
   "metadata": {
    "application/vnd.databricks.v1+cell": {
     "cellMetadata": {
      "byteLimit": 2048000,
      "rowLimit": 10000
     },
     "inputWidgets": {},
     "nuid": "1224c134-29bf-462d-b795-ae1e067420fb",
     "showTitle": false,
     "tableResultSettingsMap": {},
     "title": ""
    }
   },
   "outputs": [],
   "source": [
    "# for regression\n",
    "from pyspark.ml.regression import RandomForestRegressor, GBTRegressor, DecisionTreeRegressor"
   ]
  },
  {
   "cell_type": "code",
   "execution_count": 0,
   "metadata": {
    "application/vnd.databricks.v1+cell": {
     "cellMetadata": {
      "byteLimit": 2048000,
      "rowLimit": 10000
     },
     "inputWidgets": {},
     "nuid": "ae9c6c44-1956-4b13-b0bf-f5013b1b22f7",
     "showTitle": false,
     "tableResultSettingsMap": {},
     "title": ""
    }
   },
   "outputs": [],
   "source": [
    "data = spark.read.format(\"libsvm\").load(\"/FileStore/tables/sample_libsvm_data.txt\")"
   ]
  },
  {
   "cell_type": "code",
   "execution_count": 0,
   "metadata": {
    "application/vnd.databricks.v1+cell": {
     "cellMetadata": {
      "byteLimit": 2048000,
      "rowLimit": 10000
     },
     "inputWidgets": {},
     "nuid": "589e8abd-08cb-42b0-88f6-1e208b67d22d",
     "showTitle": false,
     "tableResultSettingsMap": {},
     "title": ""
    }
   },
   "outputs": [
    {
     "output_type": "stream",
     "name": "stdout",
     "output_type": "stream",
     "text": [
      "+-----+--------------------+\n|label|            features|\n+-----+--------------------+\n|  0.0|(692,[127,128,129...|\n|  1.0|(692,[158,159,160...|\n|  1.0|(692,[124,125,126...|\n|  1.0|(692,[152,153,154...|\n|  1.0|(692,[151,152,153...|\n|  0.0|(692,[129,130,131...|\n|  1.0|(692,[158,159,160...|\n|  1.0|(692,[99,100,101,...|\n|  0.0|(692,[154,155,156...|\n|  0.0|(692,[127,128,129...|\n|  1.0|(692,[154,155,156...|\n|  0.0|(692,[153,154,155...|\n|  0.0|(692,[151,152,153...|\n|  1.0|(692,[129,130,131...|\n|  0.0|(692,[154,155,156...|\n|  1.0|(692,[150,151,152...|\n|  0.0|(692,[124,125,126...|\n|  0.0|(692,[152,153,154...|\n|  1.0|(692,[97,98,99,12...|\n|  1.0|(692,[124,125,126...|\n+-----+--------------------+\nonly showing top 20 rows\n\n"
     ]
    }
   ],
   "source": [
    "data.show()"
   ]
  },
  {
   "cell_type": "code",
   "execution_count": 0,
   "metadata": {
    "application/vnd.databricks.v1+cell": {
     "cellMetadata": {
      "byteLimit": 2048000,
      "rowLimit": 10000
     },
     "inputWidgets": {},
     "nuid": "3851ac8f-a4b9-419c-86df-e81506215d05",
     "showTitle": false,
     "tableResultSettingsMap": {},
     "title": ""
    }
   },
   "outputs": [],
   "source": [
    "train_data, test_data = data.randomSplit([0.7, 0.3])"
   ]
  },
  {
   "cell_type": "code",
   "execution_count": 0,
   "metadata": {
    "application/vnd.databricks.v1+cell": {
     "cellMetadata": {
      "byteLimit": 2048000,
      "rowLimit": 10000
     },
     "inputWidgets": {},
     "nuid": "2bf56236-0295-4c1d-bdfa-4994c2feccdf",
     "showTitle": false,
     "tableResultSettingsMap": {},
     "title": ""
    }
   },
   "outputs": [],
   "source": [
    "dtc = DecisionTreeClassifier()\n",
    "rfc = RandomForestClassifier(numTrees=100)\n",
    "gbt = GBTClassifier()"
   ]
  },
  {
   "cell_type": "code",
   "execution_count": 0,
   "metadata": {
    "application/vnd.databricks.v1+cell": {
     "cellMetadata": {
      "byteLimit": 2048000,
      "rowLimit": 10000
     },
     "inputWidgets": {},
     "nuid": "0445eaf0-90fc-4370-a8fc-8de9318f5da5",
     "showTitle": false,
     "tableResultSettingsMap": {},
     "title": ""
    }
   },
   "outputs": [],
   "source": [
    "dtc_model = dtc.fit(train_data)\n",
    "rfc_model = rfc.fit(train_data)\n",
    "gbt_model = gbt.fit(train_data)"
   ]
  },
  {
   "cell_type": "code",
   "execution_count": 0,
   "metadata": {
    "application/vnd.databricks.v1+cell": {
     "cellMetadata": {
      "byteLimit": 2048000,
      "rowLimit": 10000
     },
     "inputWidgets": {},
     "nuid": "1d6de954-249d-42bc-a86f-9d6cac1770d6",
     "showTitle": false,
     "tableResultSettingsMap": {},
     "title": ""
    }
   },
   "outputs": [],
   "source": [
    "dtc_preds = dtc_model.transform(test_data)\n",
    "rfc_preds = rfc_model.transform(test_data)\n",
    "gbt_preds = gbt_model.transform(test_data)"
   ]
  },
  {
   "cell_type": "code",
   "execution_count": 0,
   "metadata": {
    "application/vnd.databricks.v1+cell": {
     "cellMetadata": {
      "byteLimit": 2048000,
      "rowLimit": 10000
     },
     "inputWidgets": {},
     "nuid": "84aaadfd-b869-4084-b5d4-cd8b0149eaf8",
     "showTitle": false,
     "tableResultSettingsMap": {},
     "title": ""
    }
   },
   "outputs": [],
   "source": [
    "from pyspark.ml.evaluation import MulticlassClassificationEvaluator"
   ]
  },
  {
   "cell_type": "code",
   "execution_count": 0,
   "metadata": {
    "application/vnd.databricks.v1+cell": {
     "cellMetadata": {
      "byteLimit": 2048000,
      "rowLimit": 10000
     },
     "inputWidgets": {},
     "nuid": "1afcde37-224c-430a-8625-c84568d82a32",
     "showTitle": false,
     "tableResultSettingsMap": {},
     "title": ""
    }
   },
   "outputs": [],
   "source": [
    "acc_eval = MulticlassClassificationEvaluator(metricName=\"accuracy\")"
   ]
  },
  {
   "cell_type": "code",
   "execution_count": 0,
   "metadata": {
    "application/vnd.databricks.v1+cell": {
     "cellMetadata": {
      "byteLimit": 2048000,
      "rowLimit": 10000
     },
     "inputWidgets": {},
     "nuid": "d9f05c80-3653-41e1-ae2c-e675b42fe10f",
     "showTitle": false,
     "tableResultSettingsMap": {},
     "title": ""
    }
   },
   "outputs": [
    {
     "output_type": "stream",
     "name": "stdout",
     "output_type": "stream",
     "text": [
      "DTC ACCURACY:\nOut[16]: 0.9090909090909091"
     ]
    }
   ],
   "source": [
    "print(\"DTC ACCURACY:\")\n",
    "acc_eval.evaluate(dtc_preds)"
   ]
  },
  {
   "cell_type": "code",
   "execution_count": 0,
   "metadata": {
    "application/vnd.databricks.v1+cell": {
     "cellMetadata": {
      "byteLimit": 2048000,
      "rowLimit": 10000
     },
     "inputWidgets": {},
     "nuid": "07314d0d-d61e-491f-bc74-df9eadde83d0",
     "showTitle": false,
     "tableResultSettingsMap": {},
     "title": ""
    }
   },
   "outputs": [
    {
     "output_type": "stream",
     "name": "stdout",
     "output_type": "stream",
     "text": [
      "RFC ACCURACY:\nOut[17]: 1.0"
     ]
    }
   ],
   "source": [
    "print(\"RFC ACCURACY:\")\n",
    "acc_eval.evaluate(rfc_preds)"
   ]
  },
  {
   "cell_type": "code",
   "execution_count": 0,
   "metadata": {
    "application/vnd.databricks.v1+cell": {
     "cellMetadata": {
      "byteLimit": 2048000,
      "rowLimit": 10000
     },
     "inputWidgets": {},
     "nuid": "4b090784-3698-487e-9bfc-9cb223574245",
     "showTitle": false,
     "tableResultSettingsMap": {},
     "title": ""
    }
   },
   "outputs": [
    {
     "output_type": "stream",
     "name": "stdout",
     "output_type": "stream",
     "text": [
      "GBT ACCURACY:\nOut[18]: 0.9090909090909091"
     ]
    }
   ],
   "source": [
    "print(\"GBT ACCURACY:\")\n",
    "acc_eval.evaluate(gbt_preds)"
   ]
  },
  {
   "cell_type": "code",
   "execution_count": 0,
   "metadata": {
    "application/vnd.databricks.v1+cell": {
     "cellMetadata": {
      "byteLimit": 2048000,
      "rowLimit": 10000
     },
     "inputWidgets": {},
     "nuid": "9187d307-f2e5-40d0-b229-7a77526c9340",
     "showTitle": false,
     "tableResultSettingsMap": {},
     "title": ""
    }
   },
   "outputs": [
    {
     "output_type": "stream",
     "name": "stdout",
     "output_type": "stream",
     "text": [
      "Out[19]: SparseVector(692, {126: 0.0002, 146: 0.0005, 147: 0.0005, 179: 0.0006, 184: 0.0014, 207: 0.0006, 218: 0.0009, 231: 0.0006, 232: 0.0016, 237: 0.0006, 240: 0.0006, 243: 0.0009, 244: 0.0009, 262: 0.0081, 263: 0.0083, 272: 0.007, 273: 0.0095, 274: 0.0044, 275: 0.0012, 286: 0.0006, 289: 0.023, 290: 0.0064, 292: 0.0005, 293: 0.0006, 299: 0.0054, 317: 0.0145, 318: 0.0025, 319: 0.0009, 322: 0.0048, 323: 0.0241, 324: 0.0031, 327: 0.0005, 328: 0.0075, 329: 0.006, 330: 0.0018, 331: 0.0025, 343: 0.0023, 345: 0.0038, 347: 0.0002, 350: 0.0094, 351: 0.0009, 352: 0.0012, 353: 0.0005, 354: 0.0047, 356: 0.006, 359: 0.0017, 360: 0.0005, 370: 0.0011, 371: 0.0033, 372: 0.0082, 373: 0.0071, 374: 0.0007, 375: 0.0007, 377: 0.0213, 378: 0.0334, 379: 0.0596, 380: 0.003, 384: 0.0076, 385: 0.0006, 397: 0.0018, 398: 0.0017, 400: 0.0076, 401: 0.0095, 402: 0.0051, 403: 0.0018, 404: 0.0063, 405: 0.0627, 407: 0.0235, 408: 0.002, 411: 0.0006, 412: 0.006, 415: 0.0029, 426: 0.0099, 429: 0.016, 432: 0.0012, 433: 0.0117, 434: 0.0553, 435: 0.008, 438: 0.0012, 439: 0.0027, 440: 0.0075, 454: 0.0048, 455: 0.0085, 456: 0.0177, 457: 0.0007, 459: 0.0004, 460: 0.0087, 461: 0.0289, 462: 0.0287, 465: 0.0005, 466: 0.0013, 467: 0.0067, 468: 0.0396, 469: 0.0243, 470: 0.002, 472: 0.0021, 483: 0.0068, 484: 0.0096, 485: 0.0058, 487: 0.0003, 488: 0.0005, 489: 0.0327, 490: 0.0295, 493: 0.0005, 495: 0.0022, 497: 0.0157, 511: 0.0088, 512: 0.0189, 513: 0.0048, 517: 0.0229, 518: 0.0215, 528: 0.0006, 539: 0.0115, 540: 0.0212, 541: 0.0014, 544: 0.0017, 545: 0.0038, 548: 0.0011, 549: 0.0006, 550: 0.0012, 552: 0.005, 555: 0.0006, 566: 0.0006, 568: 0.0081, 569: 0.0004, 571: 0.0007, 596: 0.0014, 598: 0.0006, 601: 0.0005, 604: 0.0017, 627: 0.0005, 628: 0.0027, 630: 0.0002, 636: 0.0013, 652: 0.0003, 659: 0.0007})"
     ]
    }
   ],
   "source": [
    "rfc_model.featureImportances"
   ]
  },
  {
   "cell_type": "code",
   "execution_count": 0,
   "metadata": {
    "application/vnd.databricks.v1+cell": {
     "cellMetadata": {},
     "inputWidgets": {},
     "nuid": "b3310e1c-85cf-4d03-86f1-a924e248baf4",
     "showTitle": false,
     "tableResultSettingsMap": {},
     "title": ""
    }
   },
   "outputs": [],
   "source": []
  }
 ],
 "metadata": {
  "application/vnd.databricks.v1+notebook": {
   "computePreferences": null,
   "dashboards": [],
   "environmentMetadata": {
    "base_environment": "",
    "environment_version": "1"
   },
   "inputWidgetPreferences": null,
   "language": "python",
   "notebookMetadata": {
    "pythonIndentUnit": 4
   },
   "notebookName": "trees_doc_example",
   "widgets": {}
  }
 },
 "nbformat": 4,
 "nbformat_minor": 0
}