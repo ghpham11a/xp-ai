{
 "cells": [
  {
   "cell_type": "code",
   "execution_count": 0,
   "metadata": {
    "application/vnd.databricks.v1+cell": {
     "cellMetadata": {
      "byteLimit": 2048000,
      "rowLimit": 10000
     },
     "inputWidgets": {},
     "nuid": "7c7922ee-ba28-4dac-8529-3c89969943e3",
     "showTitle": false,
     "tableResultSettingsMap": {},
     "title": ""
    }
   },
   "outputs": [],
   "source": [
    "from pyspark.sql import SparkSession"
   ]
  },
  {
   "cell_type": "code",
   "execution_count": 0,
   "metadata": {
    "application/vnd.databricks.v1+cell": {
     "cellMetadata": {
      "byteLimit": 2048000,
      "rowLimit": 10000
     },
     "inputWidgets": {},
     "nuid": "e1df27b0-d6bc-4315-8857-62cc4b77e17f",
     "showTitle": false,
     "tableResultSettingsMap": {},
     "title": ""
    }
   },
   "outputs": [],
   "source": [
    "spark =  SparkSession.builder.appName(\"mylogreg\").getOrCreate()"
   ]
  },
  {
   "cell_type": "code",
   "execution_count": 0,
   "metadata": {
    "application/vnd.databricks.v1+cell": {
     "cellMetadata": {
      "byteLimit": 2048000,
      "rowLimit": 10000
     },
     "inputWidgets": {},
     "nuid": "108d6d66-1b32-4c41-ac0c-253d8100593e",
     "showTitle": false,
     "tableResultSettingsMap": {},
     "title": ""
    }
   },
   "outputs": [],
   "source": [
    "from pyspark.ml.classification import LogisticRegression"
   ]
  },
  {
   "cell_type": "code",
   "execution_count": 0,
   "metadata": {
    "application/vnd.databricks.v1+cell": {
     "cellMetadata": {
      "byteLimit": 2048000,
      "rowLimit": 10000
     },
     "inputWidgets": {},
     "nuid": "5726eb3f-7d68-4c43-857d-feec36d19ef0",
     "showTitle": false,
     "tableResultSettingsMap": {},
     "title": ""
    }
   },
   "outputs": [],
   "source": [
    "my_data = spark.read.format(\"libsvm\").load(\"/FileStore/tables/sample_libsvm_data.txt\")"
   ]
  },
  {
   "cell_type": "code",
   "execution_count": 0,
   "metadata": {
    "application/vnd.databricks.v1+cell": {
     "cellMetadata": {
      "byteLimit": 2048000,
      "rowLimit": 10000
     },
     "inputWidgets": {},
     "nuid": "5e9f6f46-c952-46be-9cf9-086094cf7c99",
     "showTitle": false,
     "tableResultSettingsMap": {},
     "title": ""
    }
   },
   "outputs": [
    {
     "output_type": "stream",
     "name": "stdout",
     "output_type": "stream",
     "text": [
      "+-----+--------------------+\n|label|            features|\n+-----+--------------------+\n|  0.0|(692,[127,128,129...|\n|  1.0|(692,[158,159,160...|\n|  1.0|(692,[124,125,126...|\n|  1.0|(692,[152,153,154...|\n|  1.0|(692,[151,152,153...|\n|  0.0|(692,[129,130,131...|\n|  1.0|(692,[158,159,160...|\n|  1.0|(692,[99,100,101,...|\n|  0.0|(692,[154,155,156...|\n|  0.0|(692,[127,128,129...|\n|  1.0|(692,[154,155,156...|\n|  0.0|(692,[153,154,155...|\n|  0.0|(692,[151,152,153...|\n|  1.0|(692,[129,130,131...|\n|  0.0|(692,[154,155,156...|\n|  1.0|(692,[150,151,152...|\n|  0.0|(692,[124,125,126...|\n|  0.0|(692,[152,153,154...|\n|  1.0|(692,[97,98,99,12...|\n|  1.0|(692,[124,125,126...|\n+-----+--------------------+\nonly showing top 20 rows\n\n"
     ]
    }
   ],
   "source": [
    "my_data.show()"
   ]
  },
  {
   "cell_type": "code",
   "execution_count": 0,
   "metadata": {
    "application/vnd.databricks.v1+cell": {
     "cellMetadata": {
      "byteLimit": 2048000,
      "rowLimit": 10000
     },
     "inputWidgets": {},
     "nuid": "5582c54d-87b5-4ce6-ae86-a9861787d602",
     "showTitle": false,
     "tableResultSettingsMap": {},
     "title": ""
    }
   },
   "outputs": [],
   "source": [
    "my_log_reg_model = LogisticRegression()"
   ]
  },
  {
   "cell_type": "code",
   "execution_count": 0,
   "metadata": {
    "application/vnd.databricks.v1+cell": {
     "cellMetadata": {
      "byteLimit": 2048000,
      "rowLimit": 10000
     },
     "inputWidgets": {},
     "nuid": "de13252d-bb47-4287-adf2-873182e72a4f",
     "showTitle": false,
     "tableResultSettingsMap": {},
     "title": ""
    }
   },
   "outputs": [],
   "source": [
    "fitted_logreg = my_log_reg_model.fit(my_data)"
   ]
  },
  {
   "cell_type": "code",
   "execution_count": 0,
   "metadata": {
    "application/vnd.databricks.v1+cell": {
     "cellMetadata": {
      "byteLimit": 2048000,
      "rowLimit": 10000
     },
     "inputWidgets": {},
     "nuid": "8b3c91a0-2acc-4c87-a6de-f5c9e42d40d1",
     "showTitle": false,
     "tableResultSettingsMap": {},
     "title": ""
    }
   },
   "outputs": [],
   "source": [
    "log_summary = fitted_logreg.summary"
   ]
  },
  {
   "cell_type": "code",
   "execution_count": 0,
   "metadata": {
    "application/vnd.databricks.v1+cell": {
     "cellMetadata": {
      "byteLimit": 2048000,
      "rowLimit": 10000
     },
     "inputWidgets": {},
     "nuid": "d6219a4d-26de-4e93-9a4c-d5ba42342c2a",
     "showTitle": false,
     "tableResultSettingsMap": {},
     "title": ""
    }
   },
   "outputs": [
    {
     "output_type": "stream",
     "name": "stdout",
     "output_type": "stream",
     "text": [
      "root\n |-- label: double (nullable = true)\n |-- features: vector (nullable = true)\n |-- rawPrediction: vector (nullable = true)\n |-- probability: vector (nullable = true)\n |-- prediction: double (nullable = false)\n\n"
     ]
    }
   ],
   "source": [
    "log_summary.predictions.printSchema()"
   ]
  },
  {
   "cell_type": "code",
   "execution_count": 0,
   "metadata": {
    "application/vnd.databricks.v1+cell": {
     "cellMetadata": {
      "byteLimit": 2048000,
      "rowLimit": 10000
     },
     "inputWidgets": {},
     "nuid": "21cc5c2e-4b2e-4b0e-ba97-bc57f5c41505",
     "showTitle": false,
     "tableResultSettingsMap": {},
     "title": ""
    }
   },
   "outputs": [
    {
     "output_type": "stream",
     "name": "stdout",
     "output_type": "stream",
     "text": [
      "+-----+--------------------+--------------------+--------------------+----------+\n|label|            features|       rawPrediction|         probability|prediction|\n+-----+--------------------+--------------------+--------------------+----------+\n|  0.0|(692,[127,128,129...|[20.3777627514872...|[0.99999999858729...|       0.0|\n|  1.0|(692,[158,159,160...|[-21.114014198868...|[6.76550380000486...|       1.0|\n|  1.0|(692,[124,125,126...|[-23.743613234676...|[4.87842678716171...|       1.0|\n|  1.0|(692,[152,153,154...|[-19.192574012720...|[4.62137287298141...|       1.0|\n|  1.0|(692,[151,152,153...|[-20.125398874699...|[1.81823629113070...|       1.0|\n|  0.0|(692,[129,130,131...|[20.4890549504196...|[0.99999999873608...|       0.0|\n|  1.0|(692,[158,159,160...|[-21.082940212814...|[6.97903542823781...|       1.0|\n|  1.0|(692,[99,100,101,...|[-19.622713503550...|[3.00582577446123...|       1.0|\n|  0.0|(692,[154,155,156...|[21.1594863606582...|[0.99999999935352...|       0.0|\n|  0.0|(692,[127,128,129...|[28.1036706837287...|[0.99999999999937...|       0.0|\n|  1.0|(692,[154,155,156...|[-21.054076780106...|[7.18340962960319...|       1.0|\n|  0.0|(692,[153,154,155...|[26.9648490510184...|[0.99999999999805...|       0.0|\n|  0.0|(692,[151,152,153...|[32.7855654161400...|[0.99999999999999...|       0.0|\n|  1.0|(692,[129,130,131...|[-20.331839179667...|[1.47908944089725...|       1.0|\n|  0.0|(692,[154,155,156...|[21.7830579106564...|[0.99999999965347...|       0.0|\n|  1.0|(692,[150,151,152...|[-20.640562103728...|[1.08621994880355...|       1.0|\n|  0.0|(692,[124,125,126...|[22.6400775503731...|[0.99999999985292...|       0.0|\n|  0.0|(692,[152,153,154...|[38.0712919910909...|           [1.0,0.0]|       0.0|\n|  1.0|(692,[97,98,99,12...|[-19.830803265627...|[2.44113371545875...|       1.0|\n|  1.0|(692,[124,125,126...|[-21.016054806036...|[7.46179590484091...|       1.0|\n+-----+--------------------+--------------------+--------------------+----------+\nonly showing top 20 rows\n\n"
     ]
    }
   ],
   "source": [
    "log_summary.predictions.show()"
   ]
  },
  {
   "cell_type": "code",
   "execution_count": 0,
   "metadata": {
    "application/vnd.databricks.v1+cell": {
     "cellMetadata": {
      "byteLimit": 2048000,
      "rowLimit": 10000
     },
     "inputWidgets": {},
     "nuid": "ea09b9a2-fe14-40ae-b1ed-8d952ab55d64",
     "showTitle": false,
     "tableResultSettingsMap": {},
     "title": ""
    }
   },
   "outputs": [],
   "source": [
    "lr_train, lr_test = my_data.randomSplit([0.7, 0.3])"
   ]
  },
  {
   "cell_type": "code",
   "execution_count": 0,
   "metadata": {
    "application/vnd.databricks.v1+cell": {
     "cellMetadata": {
      "byteLimit": 2048000,
      "rowLimit": 10000
     },
     "inputWidgets": {},
     "nuid": "07b842ed-42b3-4983-ac34-1c3b9412fa2d",
     "showTitle": false,
     "tableResultSettingsMap": {},
     "title": ""
    }
   },
   "outputs": [],
   "source": [
    "final_model = LogisticRegression()"
   ]
  },
  {
   "cell_type": "code",
   "execution_count": 0,
   "metadata": {
    "application/vnd.databricks.v1+cell": {
     "cellMetadata": {
      "byteLimit": 2048000,
      "rowLimit": 10000
     },
     "inputWidgets": {},
     "nuid": "b94a4b89-2680-496c-a95f-c29433fdba72",
     "showTitle": false,
     "tableResultSettingsMap": {},
     "title": ""
    }
   },
   "outputs": [],
   "source": [
    "fit_final = final_model.fit(lr_train)"
   ]
  },
  {
   "cell_type": "code",
   "execution_count": 0,
   "metadata": {
    "application/vnd.databricks.v1+cell": {
     "cellMetadata": {
      "byteLimit": 2048000,
      "rowLimit": 10000
     },
     "inputWidgets": {},
     "nuid": "c8610eb4-f596-4044-846a-bdf4f7f53f87",
     "showTitle": false,
     "tableResultSettingsMap": {},
     "title": ""
    }
   },
   "outputs": [],
   "source": [
    "prediction_and_labels = fit_final.evaluate(lr_test)"
   ]
  },
  {
   "cell_type": "code",
   "execution_count": 0,
   "metadata": {
    "application/vnd.databricks.v1+cell": {
     "cellMetadata": {
      "byteLimit": 2048000,
      "rowLimit": 10000
     },
     "inputWidgets": {},
     "nuid": "b84889f2-679e-4f65-9c04-4c42c301f7fb",
     "showTitle": false,
     "tableResultSettingsMap": {},
     "title": ""
    }
   },
   "outputs": [
    {
     "output_type": "stream",
     "name": "stdout",
     "output_type": "stream",
     "text": [
      "+-----+--------------------+--------------------+--------------------+----------+\n|label|            features|       rawPrediction|         probability|prediction|\n+-----+--------------------+--------------------+--------------------+----------+\n|  0.0|(692,[98,99,100,1...|[34.5255180788964...|[0.99999999999999...|       0.0|\n|  0.0|(692,[121,122,123...|[22.2243848420067...|[0.99999999977711...|       0.0|\n|  0.0|(692,[126,127,128...|[30.8880283335348...|[0.99999999999996...|       0.0|\n|  0.0|(692,[126,127,128...|[26.8970046331787...|[0.99999999999791...|       0.0|\n|  0.0|(692,[126,127,128...|[28.4933081048014...|[0.99999999999957...|       0.0|\n|  0.0|(692,[152,153,154...|[27.7902077829672...|[0.99999999999914...|       0.0|\n|  0.0|(692,[154,155,156...|[10.1474840974103...|[0.99996082701751...|       0.0|\n|  1.0|(692,[99,100,101,...|[-2.8824626301505...|[0.05302733813691...|       1.0|\n|  1.0|(692,[100,101,102...|[24.3147522573528...|[0.99999999997244...|       0.0|\n|  1.0|(692,[124,125,126...|[-26.276550063829...|[3.87471089428485...|       1.0|\n|  1.0|(692,[124,125,126...|[-19.827889188338...|[2.44825774270179...|       1.0|\n|  1.0|(692,[124,125,126...|[-23.400219698859...|[6.87723254053046...|       1.0|\n|  1.0|(692,[125,126,127...|[-20.221814053178...|[1.65111659307935...|       1.0|\n|  1.0|(692,[126,127,128...|[-30.404307194234...|[6.24564304393773...|       1.0|\n|  1.0|(692,[126,127,128...|[-26.839768608975...|[2.20615792463238...|       1.0|\n|  1.0|(692,[127,128,129...|[-25.887596590888...|[5.71688756344903...|       1.0|\n|  1.0|(692,[127,128,155...|[-23.342590634747...|[7.28520360742838...|       1.0|\n|  1.0|(692,[128,129,130...|[-22.023713883480...|[2.72409713385134...|       1.0|\n|  1.0|(692,[128,129,130...|[-18.975858814450...|[5.73970041669559...|       1.0|\n|  1.0|(692,[129,130,131...|[-4.0859900210833...|[0.01652870277925...|       1.0|\n+-----+--------------------+--------------------+--------------------+----------+\nonly showing top 20 rows\n\n"
     ]
    }
   ],
   "source": [
    "prediction_and_labels.predictions.show()"
   ]
  },
  {
   "cell_type": "code",
   "execution_count": 0,
   "metadata": {
    "application/vnd.databricks.v1+cell": {
     "cellMetadata": {
      "byteLimit": 2048000,
      "rowLimit": 10000
     },
     "inputWidgets": {},
     "nuid": "c35e469f-95f1-4de6-bd4f-beb45377dcfd",
     "showTitle": false,
     "tableResultSettingsMap": {},
     "title": ""
    }
   },
   "outputs": [],
   "source": [
    "from pyspark.ml.evaluation import BinaryClassificationEvaluator, MulticlassClassificationEvaluator"
   ]
  },
  {
   "cell_type": "code",
   "execution_count": 0,
   "metadata": {
    "application/vnd.databricks.v1+cell": {
     "cellMetadata": {
      "byteLimit": 2048000,
      "rowLimit": 10000
     },
     "inputWidgets": {},
     "nuid": "f1afd013-cab6-4cdf-9db1-8f3e3292e141",
     "showTitle": false,
     "tableResultSettingsMap": {},
     "title": ""
    }
   },
   "outputs": [],
   "source": [
    "my_eval = BinaryClassificationEvaluator()"
   ]
  },
  {
   "cell_type": "code",
   "execution_count": 0,
   "metadata": {
    "application/vnd.databricks.v1+cell": {
     "cellMetadata": {
      "byteLimit": 2048000,
      "rowLimit": 10000
     },
     "inputWidgets": {},
     "nuid": "f75489a2-1295-4579-9784-e4d336cf0e48",
     "showTitle": false,
     "tableResultSettingsMap": {},
     "title": ""
    }
   },
   "outputs": [],
   "source": [
    "my_final_roc = my_eval.evaluate(prediction_and_labels.predictions)"
   ]
  },
  {
   "cell_type": "code",
   "execution_count": 0,
   "metadata": {
    "application/vnd.databricks.v1+cell": {
     "cellMetadata": {
      "byteLimit": 2048000,
      "rowLimit": 10000
     },
     "inputWidgets": {},
     "nuid": "3e844089-63d3-4ed8-a4c3-684a9be5718a",
     "showTitle": false,
     "tableResultSettingsMap": {},
     "title": ""
    }
   },
   "outputs": [
    {
     "output_type": "stream",
     "name": "stdout",
     "output_type": "stream",
     "text": [
      "Out[20]: 0.9880952380952381"
     ]
    }
   ],
   "source": [
    "my_final_roc"
   ]
  },
  {
   "cell_type": "code",
   "execution_count": 0,
   "metadata": {
    "application/vnd.databricks.v1+cell": {
     "cellMetadata": {},
     "inputWidgets": {},
     "nuid": "15687f9a-fda4-439f-beb3-fe7f48b21184",
     "showTitle": false,
     "tableResultSettingsMap": {},
     "title": ""
    }
   },
   "outputs": [],
   "source": []
  }
 ],
 "metadata": {
  "application/vnd.databricks.v1+notebook": {
   "computePreferences": null,
   "dashboards": [],
   "environmentMetadata": {
    "base_environment": "",
    "environment_version": "1"
   },
   "inputWidgetPreferences": null,
   "language": "python",
   "notebookMetadata": {
    "pythonIndentUnit": 4
   },
   "notebookName": "logreg_doc_example",
   "widgets": {}
  }
 },
 "nbformat": 4,
 "nbformat_minor": 0
}