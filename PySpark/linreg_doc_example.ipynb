{
 "cells": [
  {
   "cell_type": "code",
   "execution_count": 0,
   "metadata": {
    "application/vnd.databricks.v1+cell": {
     "cellMetadata": {
      "byteLimit": 2048000,
      "rowLimit": 10000
     },
     "inputWidgets": {},
     "nuid": "88d435a1-89c8-4ffa-a09b-ee778ddd4321",
     "showTitle": false,
     "tableResultSettingsMap": {},
     "title": ""
    }
   },
   "outputs": [],
   "source": [
    "from pyspark.sql import SparkSession"
   ]
  },
  {
   "cell_type": "code",
   "execution_count": 0,
   "metadata": {
    "application/vnd.databricks.v1+cell": {
     "cellMetadata": {
      "byteLimit": 2048000,
      "rowLimit": 10000
     },
     "inputWidgets": {},
     "nuid": "b4e8f426-5303-4ce7-878f-5d6474ee726c",
     "showTitle": false,
     "tableResultSettingsMap": {},
     "title": ""
    }
   },
   "outputs": [],
   "source": [
    "spark = SparkSession.builder.appName(\"lrex\").getOrCreate()"
   ]
  },
  {
   "cell_type": "code",
   "execution_count": 0,
   "metadata": {
    "application/vnd.databricks.v1+cell": {
     "cellMetadata": {
      "byteLimit": 2048000,
      "rowLimit": 10000
     },
     "inputWidgets": {},
     "nuid": "a98555dd-3960-496a-8541-2c35cc44e8fd",
     "showTitle": false,
     "tableResultSettingsMap": {},
     "title": ""
    }
   },
   "outputs": [],
   "source": [
    "from pyspark.ml.regression import LinearRegression"
   ]
  },
  {
   "cell_type": "code",
   "execution_count": 0,
   "metadata": {
    "application/vnd.databricks.v1+cell": {
     "cellMetadata": {
      "byteLimit": 2048000,
      "rowLimit": 10000
     },
     "inputWidgets": {},
     "nuid": "f522ca06-3af9-4866-ad3d-2cb76717600e",
     "showTitle": false,
     "tableResultSettingsMap": {},
     "title": ""
    }
   },
   "outputs": [],
   "source": [
    "training = spark.read.format(\"libsvm\").load(\"/FileStore/tables/sample_linear_regression_data.txt\")"
   ]
  },
  {
   "cell_type": "code",
   "execution_count": 0,
   "metadata": {
    "application/vnd.databricks.v1+cell": {
     "cellMetadata": {
      "byteLimit": 2048000,
      "rowLimit": 10000
     },
     "inputWidgets": {},
     "nuid": "332b8705-c7a7-4083-a6d5-5578f4942b00",
     "showTitle": false,
     "tableResultSettingsMap": {},
     "title": ""
    }
   },
   "outputs": [
    {
     "output_type": "stream",
     "name": "stdout",
     "output_type": "stream",
     "text": [
      "+-------------------+--------------------+\n|              label|            features|\n+-------------------+--------------------+\n| -9.490009878824548|(10,[0,1,2,3,4,5,...|\n| 0.2577820163584905|(10,[0,1,2,3,4,5,...|\n| -4.438869807456516|(10,[0,1,2,3,4,5,...|\n|-19.782762789614537|(10,[0,1,2,3,4,5,...|\n| -7.966593841555266|(10,[0,1,2,3,4,5,...|\n| -7.896274316726144|(10,[0,1,2,3,4,5,...|\n| -8.464803554195287|(10,[0,1,2,3,4,5,...|\n| 2.1214592666251364|(10,[0,1,2,3,4,5,...|\n| 1.0720117616524107|(10,[0,1,2,3,4,5,...|\n|-13.772441561702871|(10,[0,1,2,3,4,5,...|\n| -5.082010756207233|(10,[0,1,2,3,4,5,...|\n|  7.887786536531237|(10,[0,1,2,3,4,5,...|\n| 14.323146365332388|(10,[0,1,2,3,4,5,...|\n|-20.057482615789212|(10,[0,1,2,3,4,5,...|\n|-0.8995693247765151|(10,[0,1,2,3,4,5,...|\n| -19.16829262296376|(10,[0,1,2,3,4,5,...|\n|  5.601801561245534|(10,[0,1,2,3,4,5,...|\n|-3.2256352187273354|(10,[0,1,2,3,4,5,...|\n| 1.5299675726687754|(10,[0,1,2,3,4,5,...|\n| -0.250102447941961|(10,[0,1,2,3,4,5,...|\n+-------------------+--------------------+\nonly showing top 20 rows\n\n"
     ]
    }
   ],
   "source": [
    "training.show()"
   ]
  },
  {
   "cell_type": "code",
   "execution_count": 0,
   "metadata": {
    "application/vnd.databricks.v1+cell": {
     "cellMetadata": {
      "byteLimit": 2048000,
      "rowLimit": 10000
     },
     "inputWidgets": {},
     "nuid": "220137f5-8977-45d7-9248-cea9a8c79be6",
     "showTitle": false,
     "tableResultSettingsMap": {},
     "title": ""
    }
   },
   "outputs": [],
   "source": [
    "lr = LinearRegression(featuresCol=\"features\", labelCol=\"label\", predictionCol=\"prediction\")"
   ]
  },
  {
   "cell_type": "code",
   "execution_count": 0,
   "metadata": {
    "application/vnd.databricks.v1+cell": {
     "cellMetadata": {
      "byteLimit": 2048000,
      "rowLimit": 10000
     },
     "inputWidgets": {},
     "nuid": "a266e95e-5d7c-47aa-a7dd-80570e38e963",
     "showTitle": false,
     "tableResultSettingsMap": {},
     "title": ""
    }
   },
   "outputs": [],
   "source": [
    "lr_model = lr.fit(training)"
   ]
  },
  {
   "cell_type": "code",
   "execution_count": 0,
   "metadata": {
    "application/vnd.databricks.v1+cell": {
     "cellMetadata": {
      "byteLimit": 2048000,
      "rowLimit": 10000
     },
     "inputWidgets": {},
     "nuid": "30e8bf2a-dc1a-4483-b9a1-47dfe98f26d1",
     "showTitle": false,
     "tableResultSettingsMap": {},
     "title": ""
    }
   },
   "outputs": [
    {
     "output_type": "stream",
     "name": "stdout",
     "output_type": "stream",
     "text": [
      "Out[9]: DenseVector([0.0073, 0.8314, -0.8095, 2.4412, 0.5192, 1.1535, -0.2989, -0.5129, -0.6197, 0.6956])"
     ]
    }
   ],
   "source": [
    "lr_model.coefficients"
   ]
  },
  {
   "cell_type": "code",
   "execution_count": 0,
   "metadata": {
    "application/vnd.databricks.v1+cell": {
     "cellMetadata": {
      "byteLimit": 2048000,
      "rowLimit": 10000
     },
     "inputWidgets": {},
     "nuid": "6c42f3c6-5611-4c9f-994a-1f9c0e7fd6ba",
     "showTitle": false,
     "tableResultSettingsMap": {},
     "title": ""
    }
   },
   "outputs": [
    {
     "output_type": "stream",
     "name": "stdout",
     "output_type": "stream",
     "text": [
      "Out[10]: 0.14228558260358093"
     ]
    }
   ],
   "source": [
    "lr_model.intercept"
   ]
  },
  {
   "cell_type": "code",
   "execution_count": 0,
   "metadata": {
    "application/vnd.databricks.v1+cell": {
     "cellMetadata": {
      "byteLimit": 2048000,
      "rowLimit": 10000
     },
     "inputWidgets": {},
     "nuid": "07d730e0-820f-4e35-bca8-223f0a017711",
     "showTitle": false,
     "tableResultSettingsMap": {},
     "title": ""
    }
   },
   "outputs": [],
   "source": [
    "training_summary = lr_model.summary"
   ]
  },
  {
   "cell_type": "code",
   "execution_count": 0,
   "metadata": {
    "application/vnd.databricks.v1+cell": {
     "cellMetadata": {
      "byteLimit": 2048000,
      "rowLimit": 10000
     },
     "inputWidgets": {},
     "nuid": "94369334-2804-47af-a94b-61422d325e24",
     "showTitle": false,
     "tableResultSettingsMap": {},
     "title": ""
    }
   },
   "outputs": [
    {
     "output_type": "stream",
     "name": "stdout",
     "output_type": "stream",
     "text": [
      "Out[12]: 0.027839179518600154"
     ]
    }
   ],
   "source": [
    "training_summary.r2"
   ]
  },
  {
   "cell_type": "code",
   "execution_count": 0,
   "metadata": {
    "application/vnd.databricks.v1+cell": {
     "cellMetadata": {
      "byteLimit": 2048000,
      "rowLimit": 10000
     },
     "inputWidgets": {},
     "nuid": "b87a99d8-f493-445e-84a5-6282d9843046",
     "showTitle": false,
     "tableResultSettingsMap": {},
     "title": ""
    }
   },
   "outputs": [
    {
     "output_type": "stream",
     "name": "stdout",
     "output_type": "stream",
     "text": [
      "Out[13]: 10.16309157133015"
     ]
    }
   ],
   "source": [
    "training_summary.rootMeanSquaredError"
   ]
  },
  {
   "cell_type": "code",
   "execution_count": 0,
   "metadata": {
    "application/vnd.databricks.v1+cell": {
     "cellMetadata": {
      "byteLimit": 2048000,
      "rowLimit": 10000
     },
     "inputWidgets": {},
     "nuid": "a0a943ba-4b64-4c89-8761-e14e1d936f1c",
     "showTitle": false,
     "tableResultSettingsMap": {},
     "title": ""
    }
   },
   "outputs": [],
   "source": [
    "all_data = spark.read.format(\"libsvm\").load(\"/FileStore/tables/sample_linear_regression_data.txt\")"
   ]
  },
  {
   "cell_type": "code",
   "execution_count": 0,
   "metadata": {
    "application/vnd.databricks.v1+cell": {
     "cellMetadata": {
      "byteLimit": 2048000,
      "rowLimit": 10000
     },
     "inputWidgets": {},
     "nuid": "ec37f343-fc5e-4b1c-84a2-16ce68e99f30",
     "showTitle": false,
     "tableResultSettingsMap": {},
     "title": ""
    }
   },
   "outputs": [],
   "source": [
    "train_data, test_data = split_object = all_data.randomSplit([0.7, 0.3])"
   ]
  },
  {
   "cell_type": "code",
   "execution_count": 0,
   "metadata": {
    "application/vnd.databricks.v1+cell": {
     "cellMetadata": {
      "byteLimit": 2048000,
      "rowLimit": 10000
     },
     "inputWidgets": {},
     "nuid": "30a09797-6be2-4d89-aff0-9afc39d37166",
     "showTitle": false,
     "tableResultSettingsMap": {},
     "title": ""
    }
   },
   "outputs": [
    {
     "output_type": "stream",
     "name": "stdout",
     "output_type": "stream",
     "text": [
      "Out[16]: [DataFrame[label: double, features: vector],\n DataFrame[label: double, features: vector]]"
     ]
    }
   ],
   "source": []
  },
  {
   "cell_type": "code",
   "execution_count": 0,
   "metadata": {
    "application/vnd.databricks.v1+cell": {
     "cellMetadata": {
      "byteLimit": 2048000,
      "rowLimit": 10000
     },
     "inputWidgets": {},
     "nuid": "d9343cf4-43eb-435a-bb02-26ed9e123640",
     "showTitle": false,
     "tableResultSettingsMap": {},
     "title": ""
    }
   },
   "outputs": [
    {
     "output_type": "stream",
     "name": "stdout",
     "output_type": "stream",
     "text": [
      "+-------+-------------------+\n|summary|              label|\n+-------+-------------------+\n|  count|                343|\n|   mean|0.48234765145440656|\n| stddev| 10.332778869359553|\n|    min|-28.046018037776633|\n|    max|  27.78383192005107|\n+-------+-------------------+\n\n"
     ]
    }
   ],
   "source": [
    "train_data.describe().show()"
   ]
  },
  {
   "cell_type": "code",
   "execution_count": 0,
   "metadata": {
    "application/vnd.databricks.v1+cell": {
     "cellMetadata": {
      "byteLimit": 2048000,
      "rowLimit": 10000
     },
     "inputWidgets": {},
     "nuid": "b82ae774-59ff-47e1-a14a-9ea49d2029c7",
     "showTitle": false,
     "tableResultSettingsMap": {},
     "title": ""
    }
   },
   "outputs": [],
   "source": [
    "correct_model = lr.fit(train_data)"
   ]
  },
  {
   "cell_type": "code",
   "execution_count": 0,
   "metadata": {
    "application/vnd.databricks.v1+cell": {
     "cellMetadata": {
      "byteLimit": 2048000,
      "rowLimit": 10000
     },
     "inputWidgets": {},
     "nuid": "17fa893d-626e-4661-9705-33f82a16ce54",
     "showTitle": false,
     "tableResultSettingsMap": {},
     "title": ""
    }
   },
   "outputs": [],
   "source": [
    "test_results = correct_model.evaluate(test_data)"
   ]
  },
  {
   "cell_type": "code",
   "execution_count": 0,
   "metadata": {
    "application/vnd.databricks.v1+cell": {
     "cellMetadata": {
      "byteLimit": 2048000,
      "rowLimit": 10000
     },
     "inputWidgets": {},
     "nuid": "a0202f66-0515-43f7-b856-181664ce0d35",
     "showTitle": false,
     "tableResultSettingsMap": {},
     "title": ""
    }
   },
   "outputs": [
    {
     "output_type": "stream",
     "name": "stdout",
     "output_type": "stream",
     "text": [
      "+-------------------+\n|          residuals|\n+-------------------+\n|-30.491930077352674|\n|-25.268302606922994|\n| -21.42029980716747|\n|-20.217891467360253|\n| -19.85385587654675|\n|-18.648307661032472|\n|-14.669469307735625|\n|-16.944848804886693|\n| -17.71695105051448|\n|-17.903106986170624|\n|-16.331501345594997|\n| -17.93124810641207|\n|  -19.9024811846375|\n| -17.04686998626321|\n| -17.91211178372348|\n| -15.91631604223563|\n| -14.82030760723315|\n|-13.237140725505633|\n|-13.741440642598192|\n|-13.945926900099833|\n+-------------------+\nonly showing top 20 rows\n\n"
     ]
    }
   ],
   "source": [
    "test_results.residuals.show()"
   ]
  },
  {
   "cell_type": "code",
   "execution_count": 0,
   "metadata": {
    "application/vnd.databricks.v1+cell": {
     "cellMetadata": {
      "byteLimit": 2048000,
      "rowLimit": 10000
     },
     "inputWidgets": {},
     "nuid": "f3a122f3-d120-4620-af79-d482b89c2e8e",
     "showTitle": false,
     "tableResultSettingsMap": {},
     "title": ""
    }
   },
   "outputs": [
    {
     "output_type": "stream",
     "name": "stdout",
     "output_type": "stream",
     "text": [
      "Out[23]: 10.401133654551842"
     ]
    }
   ],
   "source": [
    "test_results.rootMeanSquaredError"
   ]
  },
  {
   "cell_type": "code",
   "execution_count": 0,
   "metadata": {
    "application/vnd.databricks.v1+cell": {
     "cellMetadata": {
      "byteLimit": 2048000,
      "rowLimit": 10000
     },
     "inputWidgets": {},
     "nuid": "fae01f3f-34d7-460b-977e-63777cc08730",
     "showTitle": false,
     "tableResultSettingsMap": {},
     "title": ""
    }
   },
   "outputs": [],
   "source": [
    "unlabeled_data = test_data.select(\"features\")"
   ]
  },
  {
   "cell_type": "code",
   "execution_count": 0,
   "metadata": {
    "application/vnd.databricks.v1+cell": {
     "cellMetadata": {
      "byteLimit": 2048000,
      "rowLimit": 10000
     },
     "inputWidgets": {},
     "nuid": "062d3167-5139-4612-b618-475f69f65c84",
     "showTitle": false,
     "tableResultSettingsMap": {},
     "title": ""
    }
   },
   "outputs": [
    {
     "output_type": "stream",
     "name": "stdout",
     "output_type": "stream",
     "text": [
      "+--------------------+\n|            features|\n+--------------------+\n|(10,[0,1,2,3,4,5,...|\n|(10,[0,1,2,3,4,5,...|\n|(10,[0,1,2,3,4,5,...|\n|(10,[0,1,2,3,4,5,...|\n|(10,[0,1,2,3,4,5,...|\n|(10,[0,1,2,3,4,5,...|\n|(10,[0,1,2,3,4,5,...|\n|(10,[0,1,2,3,4,5,...|\n|(10,[0,1,2,3,4,5,...|\n|(10,[0,1,2,3,4,5,...|\n|(10,[0,1,2,3,4,5,...|\n|(10,[0,1,2,3,4,5,...|\n|(10,[0,1,2,3,4,5,...|\n|(10,[0,1,2,3,4,5,...|\n|(10,[0,1,2,3,4,5,...|\n|(10,[0,1,2,3,4,5,...|\n|(10,[0,1,2,3,4,5,...|\n|(10,[0,1,2,3,4,5,...|\n|(10,[0,1,2,3,4,5,...|\n|(10,[0,1,2,3,4,5,...|\n+--------------------+\nonly showing top 20 rows\n\n"
     ]
    }
   ],
   "source": [
    "unlabeled_data.show()"
   ]
  },
  {
   "cell_type": "code",
   "execution_count": 0,
   "metadata": {
    "application/vnd.databricks.v1+cell": {
     "cellMetadata": {
      "byteLimit": 2048000,
      "rowLimit": 10000
     },
     "inputWidgets": {},
     "nuid": "0309bd33-e072-4ba4-ae86-a9bad498a011",
     "showTitle": false,
     "tableResultSettingsMap": {},
     "title": ""
    }
   },
   "outputs": [],
   "source": [
    "predictions = correct_model.transform(unlabeled_data)"
   ]
  },
  {
   "cell_type": "code",
   "execution_count": 0,
   "metadata": {
    "application/vnd.databricks.v1+cell": {
     "cellMetadata": {
      "byteLimit": 2048000,
      "rowLimit": 10000
     },
     "inputWidgets": {},
     "nuid": "7e525e96-5465-4bfd-a98e-8863d52aa919",
     "showTitle": false,
     "tableResultSettingsMap": {},
     "title": ""
    }
   },
   "outputs": [
    {
     "output_type": "stream",
     "name": "stdout",
     "output_type": "stream",
     "text": [
      "+--------------------+--------------------+\n|            features|          prediction|\n+--------------------+--------------------+\n|(10,[0,1,2,3,4,5,...|   1.920451207609248|\n|(10,[0,1,2,3,4,5,...|   -1.46790457567873|\n|(10,[0,1,2,3,4,5,...|-0.01208795699833...|\n|(10,[0,1,2,3,4,5,...|0.005814208401581422|\n|(10,[0,1,2,3,4,5,...| 0.07109308693221283|\n|(10,[0,1,2,3,4,5,...|  -1.019010954339247|\n|(10,[0,1,2,3,4,5,...|  -2.824731049147718|\n|(10,[0,1,2,3,4,5,...|-0.12055082098932413|\n|(10,[0,1,2,3,4,5,...|   0.997854216909393|\n|(10,[0,1,2,3,4,5,...|  1.2108999648595193|\n|(10,[0,1,2,3,4,5,...| 0.24584230457350886|\n|(10,[0,1,2,3,4,5,...|   2.069238778841512|\n|(10,[0,1,2,3,4,5,...|   4.178965571588933|\n|(10,[0,1,2,3,4,5,...|   1.671012262950915|\n|(10,[0,1,2,3,4,5,...|  2.8556288091810464|\n|(10,[0,1,2,3,4,5,...|  1.1535577893045041|\n|(10,[0,1,2,3,4,5,...|   0.844176676080447|\n|(10,[0,1,2,3,4,5,...| -0.6299471696531355|\n|(10,[0,1,2,3,4,5,...| 0.32084586670743503|\n|(10,[0,1,2,3,4,5,...|  0.7925912937343017|\n+--------------------+--------------------+\nonly showing top 20 rows\n\n"
     ]
    }
   ],
   "source": [
    "predictions.show()"
   ]
  },
  {
   "cell_type": "code",
   "execution_count": 0,
   "metadata": {
    "application/vnd.databricks.v1+cell": {
     "cellMetadata": {},
     "inputWidgets": {},
     "nuid": "0bf0434a-ed9e-436b-8833-f91a4f52e590",
     "showTitle": false,
     "tableResultSettingsMap": {},
     "title": ""
    }
   },
   "outputs": [],
   "source": []
  }
 ],
 "metadata": {
  "application/vnd.databricks.v1+notebook": {
   "computePreferences": null,
   "dashboards": [],
   "environmentMetadata": {
    "base_environment": "",
    "environment_version": "1"
   },
   "inputWidgetPreferences": null,
   "language": "python",
   "notebookMetadata": {
    "pythonIndentUnit": 4
   },
   "notebookName": "linreg_doc_example",
   "widgets": {}
  }
 },
 "nbformat": 4,
 "nbformat_minor": 0
}