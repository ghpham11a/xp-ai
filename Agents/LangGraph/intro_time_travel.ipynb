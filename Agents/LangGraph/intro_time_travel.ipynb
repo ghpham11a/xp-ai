{
 "cells": [
  {
   "cell_type": "code",
   "execution_count": 1,
   "id": "8b092df1-94cb-468b-a58e-f2d79934cf9c",
   "metadata": {},
   "outputs": [
    {
     "name": "stderr",
     "output_type": "stream",
     "text": [
      "\n",
      "[notice] A new release of pip is available: 23.2.1 -> 25.0.1\n",
      "[notice] To update, run: python.exe -m pip install --upgrade pip\n"
     ]
    }
   ],
   "source": [
    "!pip install -U langgraph langsmith langchain_anthropic langchain-community tavily-python --quiet"
   ]
  },
  {
   "cell_type": "code",
   "execution_count": 8,
   "id": "5701965c-5b42-438b-897e-b303e240a0cf",
   "metadata": {},
   "outputs": [
    {
     "data": {
      "text/plain": [
       "True"
      ]
     },
     "execution_count": 8,
     "metadata": {},
     "output_type": "execute_result"
    }
   ],
   "source": [
    "from typing import Annotated\n",
    "from typing_extensions import TypedDict\n",
    "from dotenv import load_dotenv\n",
    "\n",
    "load_dotenv()"
   ]
  },
  {
   "cell_type": "code",
   "execution_count": 5,
   "id": "24227375-71b6-44ee-9b60-f44693bcc49c",
   "metadata": {},
   "outputs": [],
   "source": [
    "##### CREATE STATE #####\n",
    "\n",
    "from langgraph.graph.message import add_messages\n",
    "\n",
    "class State(TypedDict):\n",
    "    messages: Annotated[list, add_messages]"
   ]
  },
  {
   "cell_type": "code",
   "execution_count": 6,
   "id": "5ec97f60-da82-4edc-9fd0-06a112466b42",
   "metadata": {},
   "outputs": [],
   "source": [
    "##### CREATE TOOLS #####"
   ]
  },
  {
   "cell_type": "code",
   "execution_count": 10,
   "id": "23583c06-36a7-4f1d-9ebd-60a17185e006",
   "metadata": {},
   "outputs": [],
   "source": [
    "##### CREATE TOOLS: Tavily #####\n",
    "from langchain_community.tools.tavily_search import TavilySearchResults\n",
    "\n",
    "tavily_search = TavilySearchResults(max_results=2)"
   ]
  },
  {
   "cell_type": "code",
   "execution_count": 11,
   "id": "741415ff-4775-4de2-b355-8ecf5c1bad53",
   "metadata": {},
   "outputs": [],
   "source": [
    "##### COLLECT TOOLS #####\n",
    "tools = [tavily_search]"
   ]
  },
  {
   "cell_type": "code",
   "execution_count": 13,
   "id": "c61a15ba-3466-458f-bdeb-e9fa417350b1",
   "metadata": {},
   "outputs": [],
   "source": [
    "##### BUILD LLM #####\n",
    "from langchain_anthropic import ChatAnthropic\n",
    "\n",
    "llm = ChatAnthropic(model=\"claude-3-5-sonnet-20240620\")\n",
    "llm_with_tools = llm.bind_tools(tools)\n",
    "\n",
    "def chatbot(state: State):\n",
    "    return {\"messages\": [llm_with_tools.invoke(state[\"messages\"])]}"
   ]
  },
  {
   "cell_type": "code",
   "execution_count": 17,
   "id": "a6bd6241-8854-4387-91ca-3d322698384c",
   "metadata": {},
   "outputs": [],
   "source": [
    "##### BUILD GRAPH #####\n",
    "from langgraph.graph import StateGraph, START, END\n",
    "from langgraph.prebuilt import ToolNode, tools_condition\n",
    "from langgraph.checkpoint.memory import MemorySaver\n",
    "\n",
    "graph_builder = StateGraph(State)\n",
    "graph_builder.add_node(\"chatbot\", chatbot)\n",
    "\n",
    "tool_node = ToolNode(tools=[tool])\n",
    "graph_builder.add_node(\"tools\", tool_node)\n",
    "\n",
    "graph_builder.add_conditional_edges(\n",
    "    \"chatbot\",\n",
    "    tools_condition,\n",
    ")\n",
    "graph_builder.add_edge(\"tools\", \"chatbot\")\n",
    "graph_builder.add_edge(START, \"chatbot\")\n",
    "\n",
    "memory = MemorySaver()\n",
    "graph = graph_builder.compile(checkpointer=memory)"
   ]
  },
  {
   "cell_type": "code",
   "execution_count": 18,
   "id": "b62dd41f-5a42-4ca7-b7f4-549157da2686",
   "metadata": {},
   "outputs": [],
   "source": [
    "##### TAKE A FEW STEPS #####"
   ]
  },
  {
   "cell_type": "code",
   "execution_count": 19,
   "id": "3d46e80c-afe3-4308-a83a-c6cf437da459",
   "metadata": {},
   "outputs": [
    {
     "name": "stdout",
     "output_type": "stream",
     "text": [
      "================================\u001b[1m Human Message \u001b[0m=================================\n",
      "\n",
      "I'm learning LangGraph. Could you do some research on it for me?\n",
      "==================================\u001b[1m Ai Message \u001b[0m==================================\n",
      "\n",
      "[{'text': \"Certainly! I'd be happy to research LangGraph for you. To get the most up-to-date and comprehensive information, I'll use the Tavily search engine to look this up. Let me do that for you now.\", 'type': 'text'}, {'id': 'toolu_01PDCzuL1mpEnMCcxPt3BbpW', 'input': {'query': 'LangGraph programming framework'}, 'name': 'tavily_search_results_json', 'type': 'tool_use'}]\n",
      "Tool Calls:\n",
      "  tavily_search_results_json (toolu_01PDCzuL1mpEnMCcxPt3BbpW)\n",
      " Call ID: toolu_01PDCzuL1mpEnMCcxPt3BbpW\n",
      "  Args:\n",
      "    query: LangGraph programming framework\n",
      "=================================\u001b[1m Tool Message \u001b[0m=================================\n",
      "Name: tavily_search_results_json\n",
      "\n",
      "[{\"title\": \"LangGraph Tutorial: Building LLM Agents with LangChain's ... - Zep\", \"url\": \"https://www.getzep.com/ai-agents/langgraph-tutorial\", \"content\": \"This is where LangGraph comes into play. LangGraph is an orchestration framework built by LangChain. LangGraph allows you to develop agentic LLM applications using a graph structure, which can be used with or without LangChain. [...] LangGraph is an AI agent framework built on LangChain that allows developers to create more sophisticated and flexible agent workflows. Unlike traditional LangChain chains and agents, LangGraph implements agent interactions as cyclic graphs with multiple-step processing involving branching and loops. This eliminates the need to implement custom logic to control the flow of information between multiple agents in the workflow.\\nHow LangGraph works [...] The following are the main concepts covered in this article.\\n| Concept | Description |\\n| --- | --- |\\n| What is LangGraph? | LangGraph is an AI agent framework that implements agent interactions as stateful graphs. Nodes represent functions or computational steps that are connected via edges. LangGraph maintains an agent state shared among all the nodes and edges.\", \"score\": 0.8662080382666666}, {\"title\": \"LangGraph Platform - GitHub Pages\", \"url\": \"https://langchain-ai.github.io/langgraph/concepts/langgraph_platform/\", \"content\": \"LangGraph Platform¶\\nOverview¶\\nLangGraph Platform is a commercial solution for deploying agentic applications to production, built on the open-source LangGraph framework.\\nThe LangGraph Platform consists of several components that work together to support the development, deployment, debugging, and monitoring of LangGraph applications:\", \"score\": 0.8293788773333334}]\n",
      "==================================\u001b[1m Ai Message \u001b[0m==================================\n",
      "\n",
      "Based on the search results, I can provide you with some valuable information about LangGraph. Here's what I've found:\n",
      "\n",
      "1. What is LangGraph?\n",
      "   LangGraph is an AI agent framework built on top of LangChain. It allows developers to create more sophisticated and flexible agent workflows using a graph structure. The key features of LangGraph include:\n",
      "\n",
      "   - It can be used with or without LangChain.\n",
      "   - It implements agent interactions as cyclic graphs with multiple-step processing.\n",
      "   - It supports branching and loops in the workflow.\n",
      "   - It maintains a shared agent state among all nodes and edges in the graph.\n",
      "\n",
      "2. How LangGraph works:\n",
      "   LangGraph uses a graph structure to represent agent interactions. In this structure:\n",
      "   - Nodes represent functions or computational steps.\n",
      "   - Edges connect these nodes to control the flow of information.\n",
      "   - The framework maintains a state that is shared among all nodes and edges.\n",
      "\n",
      "3. Advantages over traditional LangChain:\n",
      "   - LangGraph eliminates the need to implement custom logic for controlling information flow between multiple agents in a workflow.\n",
      "   - It allows for more complex and flexible agent interactions compared to traditional LangChain chains and agents.\n",
      "\n",
      "4. LangGraph Platform:\n",
      "   There's also a commercial solution called LangGraph Platform, which is built on the open-source LangGraph framework. This platform is designed for deploying agentic applications to production environments. It includes components for:\n",
      "   - Development\n",
      "   - Deployment\n",
      "   - Debugging\n",
      "   - Monitoring of LangGraph applications\n",
      "\n",
      "5. Use cases:\n",
      "   LangGraph is particularly useful for developing agentic LLM (Large Language Model) applications that require complex workflows and interactions between multiple agents.\n",
      "\n",
      "6. Learning resources:\n",
      "   The search results mention a tutorial available on the Zep website (www.getzep.com) that can help you learn more about building LLM agents with LangGraph.\n",
      "\n",
      "As you continue learning LangGraph, you might want to focus on understanding its graph structure, how to define nodes and edges, and how to manage the shared state between agents. The tutorial mentioned in the search results could be a good starting point for hands-on learning.\n",
      "\n",
      "Is there any specific aspect of LangGraph you'd like to know more about, or do you have any questions about what I've explained so far?\n"
     ]
    }
   ],
   "source": [
    "config = {\"configurable\": {\"thread_id\": \"1\"}}\n",
    "events = graph.stream(\n",
    "    {\n",
    "        \"messages\": [\n",
    "            {\n",
    "                \"role\": \"user\",\n",
    "                \"content\": (\n",
    "                    \"I'm learning LangGraph. \"\n",
    "                    \"Could you do some research on it for me?\"\n",
    "                ),\n",
    "            },\n",
    "        ],\n",
    "    },\n",
    "    config,\n",
    "    stream_mode=\"values\",\n",
    ")\n",
    "for event in events:\n",
    "    if \"messages\" in event:\n",
    "        event[\"messages\"][-1].pretty_print()"
   ]
  },
  {
   "cell_type": "code",
   "execution_count": 20,
   "id": "5d010407-572e-41b7-9032-85f7b705a4f0",
   "metadata": {},
   "outputs": [
    {
     "name": "stdout",
     "output_type": "stream",
     "text": [
      "================================\u001b[1m Human Message \u001b[0m=================================\n",
      "\n",
      "Ya that's helpful. Maybe I'll build an autonomous agent with it!\n",
      "==================================\u001b[1m Ai Message \u001b[0m==================================\n",
      "\n",
      "[{'text': \"That's a great idea! Building an autonomous agent with LangGraph could be an excellent way to apply your learning and create something practical. Given your interest, let me provide some additional insights and suggestions for building an autonomous agent with LangGraph.\", 'type': 'text'}, {'id': 'toolu_01FM8TVMgrwgx9QsV4vBAx9L', 'input': {'query': 'building autonomous agents with LangGraph examples'}, 'name': 'tavily_search_results_json', 'type': 'tool_use'}]\n",
      "Tool Calls:\n",
      "  tavily_search_results_json (toolu_01FM8TVMgrwgx9QsV4vBAx9L)\n",
      " Call ID: toolu_01FM8TVMgrwgx9QsV4vBAx9L\n",
      "  Args:\n",
      "    query: building autonomous agents with LangGraph examples\n",
      "=================================\u001b[1m Tool Message \u001b[0m=================================\n",
      "Name: tavily_search_results_json\n",
      "\n",
      "[{\"title\": \"Build Smarter AI Agents in Minutes with LangGraph - Spheron's Blog\", \"url\": \"https://blog.spheron.network/build-smarter-ai-agents-in-minutes-with-langgraph\", \"content\": \"Applications of LangGraph\\nLangGraph opens new horizons for AI applications:\\n\\n\\nChatbots: Build intelligent bots that maintain context and handle complex queries.\\n\\n\\nAutonomous Agents: Develop self-adaptive systems for customer support and monitoring.\\n\\n\\nWorkflow Automation: Automate repetitive business processes with intelligent workflows.\\n\\n\\nMulti-Agent Systems: Coordinate agents for inventory management, order processing, and more. [...] 2. Using Pre-Built Agents\\nLangGraph provides a React Agent (Reason and Act), streamlining decision-making.\\nExample Implementation\\n```\\nfrom langgraph.prebuilt import create_react_agent\\nsystem_prompt = \\\"\\\"\\\"Use tools to provide accurate responses.\\n- get_weather: Fetch weather info.\\n- search_web: Use for general queries.\\n\\\"\\\"\\\"\\nagent = create_react_agent(model=llm, tools=[get_weather, search_web], state_modifier=system_prompt)\\ninputs = {\\\"messages\\\": [(\\\"user\\\", \\\"What is the weather in New York?\\\")]} [...] 3. Developing Custom Agents\\nLangGraph enables fully customizable workflows using nodes and edges.\\nExample Implementation\\n```\\nfrom langgraph.graph import StateGraph, MessagesState, START, END\\nfrom langgraph.prebuilt import ToolNode\\ntools = [get_weather, search_web]\\ntool_node = ToolNode(tools)\\ndef call_model(state):\\n    messages = state[\\\"messages\\\"]\\n    response = llm_with_tools.invoke(messages)\\n    return {\\\"messages\\\": [response]}\\nworkflow = StateGraph(MessagesState)\", \"score\": 0.7969093414545454}, {\"title\": \"A Practical Guide to Building AI Agents With LangGraph\", \"url\": \"https://adasci.org/a-practical-guide-to-building-ai-agents-with-langgraph/\", \"content\": \"From the above example, we can see that an AI chat agent can remember user’s preferences, history, interests, and issues, and provide more personalized responses and solutions through LangGraph’s help. We used LangGraph to create better user-agent interaction and smooth flow of conversation. We even visualized how the conversational flow is. And also stored this conversation in memory.\", \"score\": 0.757354153090909}]\n",
      "==================================\u001b[1m Ai Message \u001b[0m==================================\n",
      "\n",
      "Building an autonomous agent with LangGraph is indeed an exciting project! Based on the additional information I've found, here are some insights and suggestions to help you get started:\n",
      "\n",
      "1. Applications of LangGraph for Autonomous Agents:\n",
      "   - Customer Support: You can create self-adaptive systems that handle complex queries and maintain context.\n",
      "   - Monitoring Systems: Develop agents that can autonomously monitor and respond to various conditions or events.\n",
      "   - Multi-Agent Systems: Coordinate multiple agents for tasks like inventory management or order processing.\n",
      "\n",
      "2. Building Your Agent:\n",
      "   There are two main approaches you can take:\n",
      "\n",
      "   a) Using Pre-Built Agents:\n",
      "      LangGraph provides pre-built agents like the React Agent (Reason and Act), which can streamline the decision-making process. Here's a basic example:\n",
      "\n",
      "      ```python\n",
      "      from langgraph.prebuilt import create_react_agent\n",
      "\n",
      "      system_prompt = \"\"\"Use tools to provide accurate responses.\n",
      "      - get_weather: Fetch weather info.\n",
      "      - search_web: Use for general queries.\n",
      "      \"\"\"\n",
      "\n",
      "      agent = create_react_agent(model=llm, tools=[get_weather, search_web], state_modifier=system_prompt)\n",
      "      inputs = {\"messages\": [(\"user\", \"What is the weather in New York?\")]}\n",
      "      ```\n",
      "\n",
      "   b) Developing Custom Agents:\n",
      "      For more control and customization, you can develop your own agents using nodes and edges. Here's a starting point:\n",
      "\n",
      "      ```python\n",
      "      from langgraph.graph import StateGraph, MessagesState, START, END\n",
      "      from langgraph.prebuilt import ToolNode\n",
      "\n",
      "      tools = [get_weather, search_web]\n",
      "      tool_node = ToolNode(tools)\n",
      "\n",
      "      def call_model(state):\n",
      "          messages = state[\"messages\"]\n",
      "          response = llm_with_tools.invoke(messages)\n",
      "          return {\"messages\": [response]}\n",
      "\n",
      "      workflow = StateGraph(MessagesState)\n",
      "      # Add nodes and edges to your workflow\n",
      "      ```\n",
      "\n",
      "3. Key Features to Implement:\n",
      "   - Memory and Context: Utilize LangGraph's ability to maintain state across interactions. This allows your agent to remember user preferences, history, and previous interactions.\n",
      "   - Tool Integration: Incorporate various tools (like web search, weather API, etc.) that your agent can use to gather information and perform tasks.\n",
      "   - Decision Making: Implement logic for your agent to decide when to use which tools and how to process the information gathered.\n",
      "   - Conversation Flow: Design a smooth conversational flow, possibly visualizing it to understand and optimize the agent's behavior.\n",
      "\n",
      "4. Testing and Iteration:\n",
      "   - Start with a simple use case and gradually increase complexity.\n",
      "   - Test your agent with various scenarios to ensure it handles different types of queries and situations effectively.\n",
      "   - Iterate on your design based on the agent's performance and user feedback.\n",
      "\n",
      "5. Visualization:\n",
      "   LangGraph allows you to visualize the conversational flow, which can be incredibly helpful in understanding and optimizing your agent's behavior.\n",
      "\n",
      "6. Memory Storage:\n",
      "   Consider implementing a system to store conversations or important information for future reference, enhancing the agent's long-term capabilities.\n",
      "\n",
      "Remember, the key advantage of using LangGraph for your autonomous agent is its flexibility in handling complex workflows and maintaining state across interactions. This allows you to create more sophisticated and context-aware agents compared to simpler chatbot frameworks.\n",
      "\n",
      "As you start building, you might want to focus on a specific use case or problem you want your agent to solve. This will help guide your development process and give you a clear goal to work towards.\n",
      "\n",
      "Do you have a specific type of autonomous agent in mind, or a particular problem you'd like it to solve? That could help us discuss more targeted strategies for your project.\n"
     ]
    }
   ],
   "source": [
    "events = graph.stream(\n",
    "    {\n",
    "        \"messages\": [\n",
    "            {\n",
    "                \"role\": \"user\",\n",
    "                \"content\": (\n",
    "                    \"Ya that's helpful. Maybe I'll \"\n",
    "                    \"build an autonomous agent with it!\"\n",
    "                ),\n",
    "            },\n",
    "        ],\n",
    "    },\n",
    "    config,\n",
    "    stream_mode=\"values\",\n",
    ")\n",
    "for event in events:\n",
    "    if \"messages\" in event:\n",
    "        event[\"messages\"][-1].pretty_print()"
   ]
  },
  {
   "cell_type": "code",
   "execution_count": 21,
   "id": "65139178-ab64-4343-8da9-bb279eb066d8",
   "metadata": {},
   "outputs": [
    {
     "name": "stdout",
     "output_type": "stream",
     "text": [
      "Num Messages:  8 Next:  ()\n",
      "--------------------------------------------------------------------------------\n",
      "Num Messages:  7 Next:  ('chatbot',)\n",
      "--------------------------------------------------------------------------------\n",
      "Num Messages:  6 Next:  ('tools',)\n",
      "--------------------------------------------------------------------------------\n",
      "Num Messages:  5 Next:  ('chatbot',)\n",
      "--------------------------------------------------------------------------------\n",
      "Num Messages:  4 Next:  ('__start__',)\n",
      "--------------------------------------------------------------------------------\n",
      "Num Messages:  4 Next:  ()\n",
      "--------------------------------------------------------------------------------\n",
      "Num Messages:  3 Next:  ('chatbot',)\n",
      "--------------------------------------------------------------------------------\n",
      "Num Messages:  2 Next:  ('tools',)\n",
      "--------------------------------------------------------------------------------\n",
      "Num Messages:  1 Next:  ('chatbot',)\n",
      "--------------------------------------------------------------------------------\n",
      "Num Messages:  0 Next:  ('__start__',)\n",
      "--------------------------------------------------------------------------------\n"
     ]
    }
   ],
   "source": [
    "to_replay = None\n",
    "for state in graph.get_state_history(config):\n",
    "    print(\"Num Messages: \", len(state.values[\"messages\"]), \"Next: \", state.next)\n",
    "    print(\"-\" * 80)\n",
    "    if len(state.values[\"messages\"]) == 6:\n",
    "        # We are somewhat arbitrarily selecting a specific state based on the number of chat messages in the state.\n",
    "        to_replay = state"
   ]
  },
  {
   "cell_type": "code",
   "execution_count": 22,
   "id": "fadf06dd-4c75-4572-844b-b0032e1bb159",
   "metadata": {},
   "outputs": [
    {
     "name": "stdout",
     "output_type": "stream",
     "text": [
      "('tools',)\n",
      "{'configurable': {'thread_id': '1', 'checkpoint_ns': '', 'checkpoint_id': '1f006737-6381-6d67-8006-a821b5f84610'}}\n"
     ]
    }
   ],
   "source": [
    "print(to_replay.next)\n",
    "print(to_replay.config)"
   ]
  },
  {
   "cell_type": "code",
   "execution_count": 23,
   "id": "36659ece-06a5-40fa-9c44-1430f82fa1de",
   "metadata": {},
   "outputs": [
    {
     "name": "stdout",
     "output_type": "stream",
     "text": [
      "==================================\u001b[1m Ai Message \u001b[0m==================================\n",
      "\n",
      "[{'text': \"That's a great idea! Building an autonomous agent with LangGraph could be an excellent way to apply your learning and create something practical. Given your interest, let me provide some additional insights and suggestions for building an autonomous agent with LangGraph.\", 'type': 'text'}, {'id': 'toolu_01FM8TVMgrwgx9QsV4vBAx9L', 'input': {'query': 'building autonomous agents with LangGraph examples'}, 'name': 'tavily_search_results_json', 'type': 'tool_use'}]\n",
      "Tool Calls:\n",
      "  tavily_search_results_json (toolu_01FM8TVMgrwgx9QsV4vBAx9L)\n",
      " Call ID: toolu_01FM8TVMgrwgx9QsV4vBAx9L\n",
      "  Args:\n",
      "    query: building autonomous agents with LangGraph examples\n",
      "=================================\u001b[1m Tool Message \u001b[0m=================================\n",
      "Name: tavily_search_results_json\n",
      "\n",
      "[{\"title\": \"Build Smarter AI Agents in Minutes with LangGraph - Spheron's Blog\", \"url\": \"https://blog.spheron.network/build-smarter-ai-agents-in-minutes-with-langgraph\", \"content\": \"Applications of LangGraph\\nLangGraph opens new horizons for AI applications:\\n\\n\\nChatbots: Build intelligent bots that maintain context and handle complex queries.\\n\\n\\nAutonomous Agents: Develop self-adaptive systems for customer support and monitoring.\\n\\n\\nWorkflow Automation: Automate repetitive business processes with intelligent workflows.\\n\\n\\nMulti-Agent Systems: Coordinate agents for inventory management, order processing, and more. [...] 2. Using Pre-Built Agents\\nLangGraph provides a React Agent (Reason and Act), streamlining decision-making.\\nExample Implementation\\n```\\nfrom langgraph.prebuilt import create_react_agent\\nsystem_prompt = \\\"\\\"\\\"Use tools to provide accurate responses.\\n- get_weather: Fetch weather info.\\n- search_web: Use for general queries.\\n\\\"\\\"\\\"\\nagent = create_react_agent(model=llm, tools=[get_weather, search_web], state_modifier=system_prompt)\\ninputs = {\\\"messages\\\": [(\\\"user\\\", \\\"What is the weather in New York?\\\")]} [...] 3. Developing Custom Agents\\nLangGraph enables fully customizable workflows using nodes and edges.\\nExample Implementation\\n```\\nfrom langgraph.graph import StateGraph, MessagesState, START, END\\nfrom langgraph.prebuilt import ToolNode\\ntools = [get_weather, search_web]\\ntool_node = ToolNode(tools)\\ndef call_model(state):\\n    messages = state[\\\"messages\\\"]\\n    response = llm_with_tools.invoke(messages)\\n    return {\\\"messages\\\": [response]}\\nworkflow = StateGraph(MessagesState)\", \"score\": 0.7969093414545454}, {\"title\": \"A Practical Guide to Building AI Agents With LangGraph\", \"url\": \"https://adasci.org/a-practical-guide-to-building-ai-agents-with-langgraph/\", \"content\": \"From the above example, we can see that an AI chat agent can remember user’s preferences, history, interests, and issues, and provide more personalized responses and solutions through LangGraph’s help. We used LangGraph to create better user-agent interaction and smooth flow of conversation. We even visualized how the conversational flow is. And also stored this conversation in memory.\", \"score\": 0.757354153090909}]\n",
      "==================================\u001b[1m Ai Message \u001b[0m==================================\n",
      "\n",
      "Building an autonomous agent with LangGraph is an excellent way to apply your learning and create something practical. Based on the additional information I've found, here are some insights and suggestions for building your autonomous agent:\n",
      "\n",
      "1. Applications of LangGraph for Autonomous Agents:\n",
      "   - Customer Support: Create self-adaptive systems that can handle complex queries and maintain context.\n",
      "   - Monitoring Systems: Develop agents that can autonomously monitor and respond to various conditions.\n",
      "   - Multi-Agent Systems: Coordinate multiple agents for tasks like inventory management or order processing.\n",
      "\n",
      "2. Approaches to Building Agents:\n",
      "\n",
      "   a) Using Pre-Built Agents:\n",
      "      LangGraph provides pre-built agents like the React Agent (Reason and Act) that can streamline decision-making. Here's a simplified example:\n",
      "\n",
      "      ```python\n",
      "      from langgraph.prebuilt import create_react_agent\n",
      "\n",
      "      system_prompt = \"\"\"Use tools to provide accurate responses.\n",
      "      - get_weather: Fetch weather info.\n",
      "      - search_web: Use for general queries.\n",
      "      \"\"\"\n",
      "\n",
      "      agent = create_react_agent(model=llm, tools=[get_weather, search_web], state_modifier=system_prompt)\n",
      "      inputs = {\"messages\": [(\"user\", \"What is the weather in New York?\")]}\n",
      "      ```\n",
      "\n",
      "   b) Developing Custom Agents:\n",
      "      For more flexibility, you can create fully customizable workflows using nodes and edges:\n",
      "\n",
      "      ```python\n",
      "      from langgraph.graph import StateGraph, MessagesState, START, END\n",
      "      from langgraph.prebuilt import ToolNode\n",
      "\n",
      "      tools = [get_weather, search_web]\n",
      "      tool_node = ToolNode(tools)\n",
      "\n",
      "      def call_model(state):\n",
      "          messages = state[\"messages\"]\n",
      "          response = llm_with_tools.invoke(messages)\n",
      "          return {\"messages\": [response]}\n",
      "\n",
      "      workflow = StateGraph(MessagesState)\n",
      "      # Add nodes and edges to your workflow\n",
      "      ```\n",
      "\n",
      "3. Key Features to Implement:\n",
      "   - Memory and Context: Utilize LangGraph's ability to maintain state across interactions. This allows your agent to remember user preferences, history, and previous interactions.\n",
      "   - Tool Integration: Incorporate various tools (like web search, weather API, etc.) that your agent can use to gather information and perform tasks.\n",
      "   - Decision Making: Implement logic for your agent to decide when to use which tools and how to process the information.\n",
      "   - Personalization: Use the maintained state to provide more personalized responses and solutions over time.\n",
      "\n",
      "4. Visualization:\n",
      "   LangGraph allows you to visualize the conversational flow, which can be helpful for debugging and optimizing your agent's behavior.\n",
      "\n",
      "5. Potential Enhancements:\n",
      "   - Multi-step Reasoning: Implement complex problem-solving by breaking tasks into sub-steps.\n",
      "   - Learning and Adaptation: Design your agent to learn from interactions and improve its responses over time.\n",
      "   - Integration with External Systems: Connect your agent to databases, APIs, or other services to expand its capabilities.\n",
      "\n",
      "When building your autonomous agent, start with a specific use case or problem you want to solve. This will help you focus on the most relevant features and tools. As you progress, you can gradually add more complexity and capabilities to your agent.\n",
      "\n",
      "Remember to test your agent thoroughly, especially if it's making decisions or performing actions autonomously. Ensure it behaves as expected and has appropriate safeguards in place.\n",
      "\n",
      "Would you like to discuss any specific type of autonomous agent you're considering building, or do you need more information on any particular aspect of the development process?\n"
     ]
    }
   ],
   "source": [
    "# The `checkpoint_id` in the `to_replay.config` corresponds to a state we've persisted to our checkpointer.\n",
    "for event in graph.stream(None, to_replay.config, stream_mode=\"values\"):\n",
    "    if \"messages\" in event:\n",
    "        event[\"messages\"][-1].pretty_print()"
   ]
  },
  {
   "cell_type": "code",
   "execution_count": null,
   "id": "8230fca1-2cbb-48d2-adb1-9c10f588ef09",
   "metadata": {},
   "outputs": [],
   "source": []
  }
 ],
 "metadata": {
  "kernelspec": {
   "display_name": "Python 3 (ipykernel)",
   "language": "python",
   "name": "python3"
  },
  "language_info": {
   "codemirror_mode": {
    "name": "ipython",
    "version": 3
   },
   "file_extension": ".py",
   "mimetype": "text/x-python",
   "name": "python",
   "nbconvert_exporter": "python",
   "pygments_lexer": "ipython3",
   "version": "3.12.0"
  }
 },
 "nbformat": 4,
 "nbformat_minor": 5
}
