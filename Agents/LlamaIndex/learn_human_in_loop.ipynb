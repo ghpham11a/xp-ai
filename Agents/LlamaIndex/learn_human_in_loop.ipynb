{
 "cells": [
  {
   "cell_type": "code",
   "execution_count": 1,
   "id": "2870b4b2-b244-49bd-bba3-01989e69bbea",
   "metadata": {},
   "outputs": [
    {
     "name": "stderr",
     "output_type": "stream",
     "text": [
      "\n",
      "[notice] A new release of pip is available: 23.2.1 -> 25.0.1\n",
      "[notice] To update, run: python.exe -m pip install --upgrade pip\n"
     ]
    }
   ],
   "source": [
    "!pip install llama-index-core llama-index-llms-openai python-dotenv --quiet"
   ]
  },
  {
   "cell_type": "code",
   "execution_count": 2,
   "id": "d5f876e8-50e1-45f6-8560-d94e3e07442d",
   "metadata": {},
   "outputs": [
    {
     "data": {
      "text/plain": [
       "True"
      ]
     },
     "execution_count": 2,
     "metadata": {},
     "output_type": "execute_result"
    }
   ],
   "source": [
    "from dotenv import load_dotenv\n",
    "# so everything with LlamaIndex works correctly in a notebook\n",
    "import nest_asyncio\n",
    "\n",
    "nest_asyncio.apply()\n",
    "load_dotenv()"
   ]
  },
  {
   "cell_type": "code",
   "execution_count": 8,
   "id": "84bd6d25-4582-47c9-a61d-4fd5e523a4c8",
   "metadata": {},
   "outputs": [],
   "source": [
    "##### CREATE TOOLS #####\n",
    "from llama_index.core.workflow import Context\n",
    "from llama_index.core.workflow import (\n",
    "    InputRequiredEvent,\n",
    "    HumanResponseEvent,\n",
    ")\n",
    "\n",
    "async def dangerous_task(ctx: Context) -> str:\n",
    "    \"\"\"A dangerous task that requires human confirmation.\"\"\"\n",
    "\n",
    "    # emit an event to the external stream to be captured\n",
    "    ctx.write_event_to_stream(\n",
    "        InputRequiredEvent(\n",
    "            prefix=\"Are you sure you want to proceed? \",\n",
    "            user_name=\"Laurie\",\n",
    "        )\n",
    "    )\n",
    "\n",
    "    # wait until we see a HumanResponseEvent\n",
    "    response = await ctx.wait_for_event(\n",
    "        HumanResponseEvent, requirements={\"user_name\": \"Laurie\"}\n",
    "    )\n",
    "\n",
    "    # act on the input from the event\n",
    "    if response.response.strip().lower() == \"yes\":\n",
    "        return \"Dangerous task completed successfully.\"\n",
    "    else:\n",
    "        return \"Dangerous task aborted.\""
   ]
  },
  {
   "cell_type": "code",
   "execution_count": 9,
   "id": "8a9b44fe-c8a5-4050-8128-37fd34bb52cb",
   "metadata": {},
   "outputs": [],
   "source": [
    "##### INITIALISE LLM #####\n",
    "from llama_index.llms.openai import OpenAI\n",
    "\n",
    "llm = OpenAI(model=\"gpt-4o-mini\")"
   ]
  },
  {
   "cell_type": "code",
   "execution_count": 10,
   "id": "ae92f8d3-1e84-438f-aba4-5419f958ad81",
   "metadata": {},
   "outputs": [],
   "source": [
    "##### INITIALISE AGENT #####\n",
    "from llama_index.core.agent.workflow import AgentWorkflow\n",
    "\n",
    "workflow = AgentWorkflow.from_tools_or_functions(\n",
    "    [dangerous_task],\n",
    "    llm=llm,\n",
    "    system_prompt=\"You are a helpful assistant that can perform dangerous tasks.\",\n",
    ")"
   ]
  },
  {
   "cell_type": "code",
   "execution_count": 11,
   "id": "da7d14f0-5a18-4402-93c8-640c605bf859",
   "metadata": {},
   "outputs": [
    {
     "name": "stdin",
     "output_type": "stream",
     "text": [
      "Are you sure you want to proceed?  yes\n"
     ]
    },
    {
     "name": "stdout",
     "output_type": "stream",
     "text": [
      "The dangerous task has been completed successfully. If you need anything else, feel free to ask!\n"
     ]
    }
   ],
   "source": [
    "handler = workflow.run(user_msg=\"I want to proceed with the dangerous task.\")\n",
    "\n",
    "async for event in handler.stream_events():\n",
    "    if isinstance(event, InputRequiredEvent):\n",
    "        # capture keyboard input\n",
    "        response = input(event.prefix)\n",
    "        # send our response back\n",
    "        handler.ctx.send_event(\n",
    "            HumanResponseEvent(\n",
    "                response=response,\n",
    "                user_name=event.user_name,\n",
    "            )\n",
    "        )\n",
    "\n",
    "response = await handler\n",
    "print(str(response))"
   ]
  }
 ],
 "metadata": {
  "kernelspec": {
   "display_name": "Python 3 (ipykernel)",
   "language": "python",
   "name": "python3"
  },
  "language_info": {
   "codemirror_mode": {
    "name": "ipython",
    "version": 3
   },
   "file_extension": ".py",
   "mimetype": "text/x-python",
   "name": "python",
   "nbconvert_exporter": "python",
   "pygments_lexer": "ipython3",
   "version": "3.12.0"
  }
 },
 "nbformat": 4,
 "nbformat_minor": 5
}
