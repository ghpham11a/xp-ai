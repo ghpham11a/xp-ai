{
 "cells": [
  {
   "cell_type": "code",
   "execution_count": 19,
   "id": "7dc1d96e-d5ab-4935-b996-b04d280d9bfd",
   "metadata": {},
   "outputs": [
    {
     "name": "stderr",
     "output_type": "stream",
     "text": [
      "\n",
      "[notice] A new release of pip is available: 23.2.1 -> 25.0.1\n",
      "[notice] To update, run: python.exe -m pip install --upgrade pip\n"
     ]
    }
   ],
   "source": [
    "!pip install llama-index-core llama-index-llms-openai python-dotenv llama-index-tools-yahoo-finance --quiet"
   ]
  },
  {
   "cell_type": "code",
   "execution_count": 13,
   "id": "08c32310-b69c-4e60-8720-e1218be855f4",
   "metadata": {},
   "outputs": [
    {
     "data": {
      "text/plain": [
       "True"
      ]
     },
     "execution_count": 13,
     "metadata": {},
     "output_type": "execute_result"
    }
   ],
   "source": [
    "from dotenv import load_dotenv\n",
    "# so everything with LlamaIndex works correctly in a notebook\n",
    "import nest_asyncio\n",
    "\n",
    "nest_asyncio.apply()\n",
    "load_dotenv()"
   ]
  },
  {
   "cell_type": "code",
   "execution_count": 32,
   "id": "289282f8-08bd-4eea-8ea4-c54648005b2b",
   "metadata": {},
   "outputs": [],
   "source": [
    "##### CREATE TOOLS #####\n",
    "from llama_index.tools.yahoo_finance import YahooFinanceToolSpec\n",
    "\n",
    "def multiply(a: float, b: float) -> float:\n",
    "    \"\"\"Multiply two numbers and returns the product\"\"\"\n",
    "    return a * b\n",
    "\n",
    "\n",
    "def add(a: float, b: float) -> float:\n",
    "    \"\"\"Add two numbers and returns the sum\"\"\"\n",
    "    return a + b\n",
    "\n",
    "async def set_name(ctx: Context, name: str) -> str:\n",
    "    state = await ctx.get(\"state\")\n",
    "    state[\"name\"] = name\n",
    "    await ctx.set(\"state\", state)\n",
    "    return f\"Name set to {name}\"\n",
    "\n",
    "finance_tools = YahooFinanceToolSpec().to_tool_list()\n",
    "finance_tools.extend([multiply, add, set_name])"
   ]
  },
  {
   "cell_type": "code",
   "execution_count": 33,
   "id": "009408c0-4878-45b0-881e-1e40711b3318",
   "metadata": {},
   "outputs": [],
   "source": [
    "##### INITIALISE LLM #####\n",
    "from llama_index.llms.openai import OpenAI\n",
    "\n",
    "llm = OpenAI(model=\"gpt-4o-mini\")"
   ]
  },
  {
   "cell_type": "code",
   "execution_count": 34,
   "id": "661962d2-72e5-4ee0-b8e0-8ee2ba51830a",
   "metadata": {},
   "outputs": [],
   "source": [
    "##### INITIALISE AGENT #####\n",
    "from llama_index.core.agent.workflow import AgentWorkflow\n",
    "\n",
    "workflow = AgentWorkflow.from_tools_or_functions(\n",
    "    finance_tools,\n",
    "    llm=llm,\n",
    "    system_prompt=\"You are an agent that can perform basic mathematical operations using tools.\",\n",
    "    initial_state={\"name\": \"unset\"}\n",
    ")"
   ]
  },
  {
   "cell_type": "code",
   "execution_count": 35,
   "id": "c6bf9f0c-c458-4e67-9bda-e954af90be0f",
   "metadata": {},
   "outputs": [],
   "source": [
    "##### CREATE STATE TO MAINTAIN #####\n",
    "from llama_index.core.workflow import Context\n",
    "\n",
    "ctx = Context(workflow)"
   ]
  },
  {
   "cell_type": "code",
   "execution_count": 36,
   "id": "9ae6e0cf-687b-4417-a783-4c4010e3c849",
   "metadata": {},
   "outputs": [],
   "source": [
    "##### ASK A QUESTION #####"
   ]
  },
  {
   "cell_type": "code",
   "execution_count": 37,
   "id": "5bf9440f-4657-438c-9b49-d9e4940831f7",
   "metadata": {},
   "outputs": [
    {
     "name": "stdout",
     "output_type": "stream",
     "text": [
      "The result of the calculation \\(20 + (2 \\times 4)\\) is 28.\n"
     ]
    }
   ],
   "source": [
    "response = await workflow.run(user_msg=\"What is 20+(2*4)?\", ctx=ctx)\n",
    "print(response)"
   ]
  },
  {
   "cell_type": "code",
   "execution_count": 38,
   "id": "afcd7167-a287-4a02-bef2-ff1c38f379dd",
   "metadata": {},
   "outputs": [
    {
     "name": "stdout",
     "output_type": "stream",
     "text": [
      "The current stock price of NVIDIA (NVDA) is $117.70.\n"
     ]
    }
   ],
   "source": [
    "response = await workflow.run(user_msg=\"What's the current stock price of NVIDIA?\", ctx=ctx)\n",
    "print(response)"
   ]
  },
  {
   "cell_type": "code",
   "execution_count": 39,
   "id": "2fbc5738-87f9-4c6c-8413-4e24b0c3479b",
   "metadata": {},
   "outputs": [
    {
     "name": "stdout",
     "output_type": "stream",
     "text": [
      "Nice to meet you, Jean Luc Piccard!\n"
     ]
    }
   ],
   "source": [
    "response = await workflow.run(user_msg=\"Hi, my name is Jean Luc Piccard\", ctx=ctx)\n",
    "print(response)"
   ]
  },
  {
   "cell_type": "code",
   "execution_count": 40,
   "id": "71dc4f15-334c-4e9f-ae22-02314f8f1ce9",
   "metadata": {},
   "outputs": [
    {
     "name": "stdout",
     "output_type": "stream",
     "text": [
      "Your name is Jean Luc Piccard.\n"
     ]
    }
   ],
   "source": [
    "response = await workflow.run(user_msg=\"What's my name?\", ctx=ctx)\n",
    "print(response)"
   ]
  },
  {
   "cell_type": "code",
   "execution_count": 42,
   "id": "563a0f91-8361-4b23-82e5-79d95edf5b87",
   "metadata": {},
   "outputs": [
    {
     "name": "stdout",
     "output_type": "stream",
     "text": [
      "Your name is Jean Luc Piccard.\n"
     ]
    }
   ],
   "source": [
    "##### SAVE AND RETRIEVE STATE #####\n",
    "from llama_index.core.workflow import JsonPickleSerializer, JsonSerializer\n",
    "\n",
    "ctx_dict = ctx.to_dict(serializer=JsonSerializer())\n",
    "\n",
    "restored_ctx = Context.from_dict(\n",
    "    workflow, ctx_dict, serializer=JsonSerializer()\n",
    ")\n",
    "\n",
    "response = await workflow.run(user_msg=\"What's my name?\", ctx=ctx)\n",
    "print(response)"
   ]
  },
  {
   "cell_type": "code",
   "execution_count": 43,
   "id": "22a17b09-eb57-4733-869a-783a4fa9cd71",
   "metadata": {},
   "outputs": [
    {
     "name": "stdout",
     "output_type": "stream",
     "text": [
      "Name as stored in state:  Jean Luc Piccard\n"
     ]
    }
   ],
   "source": [
    "##### TOOLS WITH STATE #####\n",
    "\n",
    "state = await ctx.get(\"state\")\n",
    "print(\"Name as stored in state: \", state[\"name\"])"
   ]
  }
 ],
 "metadata": {
  "kernelspec": {
   "display_name": "Python 3 (ipykernel)",
   "language": "python",
   "name": "python3"
  },
  "language_info": {
   "codemirror_mode": {
    "name": "ipython",
    "version": 3
   },
   "file_extension": ".py",
   "mimetype": "text/x-python",
   "name": "python",
   "nbconvert_exporter": "python",
   "pygments_lexer": "ipython3",
   "version": "3.12.0"
  }
 },
 "nbformat": 4,
 "nbformat_minor": 5
}
