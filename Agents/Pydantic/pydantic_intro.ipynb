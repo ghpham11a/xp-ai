{
  "nbformat": 4,
  "nbformat_minor": 0,
  "metadata": {
    "colab": {
      "provenance": []
    },
    "kernelspec": {
      "name": "python3",
      "display_name": "Python 3"
    },
    "language_info": {
      "name": "python"
    }
  },
  "cells": [
    {
      "cell_type": "code",
      "execution_count": 2,
      "metadata": {
        "colab": {
          "base_uri": "https://localhost:8080/"
        },
        "id": "j-8M-X_7IJxA",
        "outputId": "5dd8e1a7-b0d6-4ad3-eb79-d929c1beaae3"
      },
      "outputs": [
        {
          "output_type": "stream",
          "name": "stdout",
          "text": [
            "\u001b[2K   \u001b[90m━━━━━━━━━━━━━━━━━━━━━━━━━━━━━━━━━━━━━━━━\u001b[0m \u001b[32m137.5/137.5 kB\u001b[0m \u001b[31m5.0 MB/s\u001b[0m eta \u001b[36m0:00:00\u001b[0m\n",
            "\u001b[2K   \u001b[90m━━━━━━━━━━━━━━━━━━━━━━━━━━━━━━━━━━━━━━━━\u001b[0m \u001b[32m243.4/243.4 kB\u001b[0m \u001b[31m5.1 MB/s\u001b[0m eta \u001b[36m0:00:00\u001b[0m\n",
            "\u001b[2K   \u001b[90m━━━━━━━━━━━━━━━━━━━━━━━━━━━━━━━━━━━━━━━━\u001b[0m \u001b[32m44.0/44.0 kB\u001b[0m \u001b[31m2.3 MB/s\u001b[0m eta \u001b[36m0:00:00\u001b[0m\n",
            "\u001b[2K   \u001b[90m━━━━━━━━━━━━━━━━━━━━━━━━━━━━━━━━━━━━━━━━\u001b[0m \u001b[32m139.6/139.6 kB\u001b[0m \u001b[31m7.5 MB/s\u001b[0m eta \u001b[36m0:00:00\u001b[0m\n",
            "\u001b[2K   \u001b[90m━━━━━━━━━━━━━━━━━━━━━━━━━━━━━━━━━━━━━━━━\u001b[0m \u001b[32m253.9/253.9 kB\u001b[0m \u001b[31m11.4 MB/s\u001b[0m eta \u001b[36m0:00:00\u001b[0m\n",
            "\u001b[2K   \u001b[90m━━━━━━━━━━━━━━━━━━━━━━━━━━━━━━━━━━━━━━━━\u001b[0m \u001b[32m128.9/128.9 kB\u001b[0m \u001b[31m6.4 MB/s\u001b[0m eta \u001b[36m0:00:00\u001b[0m\n",
            "\u001b[2K   \u001b[90m━━━━━━━━━━━━━━━━━━━━━━━━━━━━━━━━━━━━━━━━\u001b[0m \u001b[32m124.9/124.9 kB\u001b[0m \u001b[31m5.8 MB/s\u001b[0m eta \u001b[36m0:00:00\u001b[0m\n",
            "\u001b[2K   \u001b[90m━━━━━━━━━━━━━━━━━━━━━━━━━━━━━━━━━━━━━━━━\u001b[0m \u001b[32m73.7/73.7 kB\u001b[0m \u001b[31m3.6 MB/s\u001b[0m eta \u001b[36m0:00:00\u001b[0m\n",
            "\u001b[2K   \u001b[90m━━━━━━━━━━━━━━━━━━━━━━━━━━━━━━━━━━━━━━━━\u001b[0m \u001b[32m288.7/288.7 kB\u001b[0m \u001b[31m16.7 MB/s\u001b[0m eta \u001b[36m0:00:00\u001b[0m\n",
            "\u001b[2K   \u001b[90m━━━━━━━━━━━━━━━━━━━━━━━━━━━━━━━━━━━━━━━━\u001b[0m \u001b[32m13.4/13.4 MB\u001b[0m \u001b[31m47.5 MB/s\u001b[0m eta \u001b[36m0:00:00\u001b[0m\n",
            "\u001b[2K   \u001b[90m━━━━━━━━━━━━━━━━━━━━━━━━━━━━━━━━━━━━━━━━\u001b[0m \u001b[32m3.3/3.3 MB\u001b[0m \u001b[31m57.8 MB/s\u001b[0m eta \u001b[36m0:00:00\u001b[0m\n",
            "\u001b[2K   \u001b[90m━━━━━━━━━━━━━━━━━━━━━━━━━━━━━━━━━━━━━━━━\u001b[0m \u001b[32m78.1/78.1 kB\u001b[0m \u001b[31m5.1 MB/s\u001b[0m eta \u001b[36m0:00:00\u001b[0m\n",
            "\u001b[2K   \u001b[90m━━━━━━━━━━━━━━━━━━━━━━━━━━━━━━━━━━━━━━━━\u001b[0m \u001b[32m84.4/84.4 kB\u001b[0m \u001b[31m5.6 MB/s\u001b[0m eta \u001b[36m0:00:00\u001b[0m\n",
            "\u001b[2K   \u001b[90m━━━━━━━━━━━━━━━━━━━━━━━━━━━━━━━━━━━━━━━━\u001b[0m \u001b[32m72.0/72.0 kB\u001b[0m \u001b[31m4.4 MB/s\u001b[0m eta \u001b[36m0:00:00\u001b[0m\n",
            "\u001b[2K   \u001b[90m━━━━━━━━━━━━━━━━━━━━━━━━━━━━━━━━━━━━━━━━\u001b[0m \u001b[32m62.3/62.3 kB\u001b[0m \u001b[31m3.8 MB/s\u001b[0m eta \u001b[36m0:00:00\u001b[0m\n",
            "\u001b[?25h"
          ]
        }
      ],
      "source": [
        "!pip install pydantic-ai python-dotenv --quiet"
      ]
    },
    {
      "cell_type": "code",
      "source": [
        "import os\n",
        "import nest_asyncio\n",
        "from typing import Dict, List, Optional\n",
        "\n",
        "from dotenv import load_dotenv\n",
        "\n",
        "load_dotenv()\n",
        "nest_asyncio.apply()\n"
      ],
      "metadata": {
        "id": "Qal2OY3oI2jE"
      },
      "execution_count": 3,
      "outputs": []
    },
    {
      "cell_type": "code",
      "source": [
        "#### UTILITIES ####\n",
        "from pydantic import BaseModel, Field\n",
        "\n",
        "# formats a response for better LLM processing\n",
        "def to_markdown(data, indent=0):\n",
        "    markdown = \"\"\n",
        "    if isinstance(data, BaseModel):\n",
        "        data = data.model_dump()\n",
        "    if isinstance(data, dict):\n",
        "        for key, value in data.items():\n",
        "            markdown += f\"{'#' * (indent + 2)} {key.upper()}\\n\"\n",
        "            if isinstance(value, (dict, list, BaseModel)):\n",
        "                markdown += to_markdown(value, indent + 1)\n",
        "            else:\n",
        "                markdown += f\"{value}\\n\\n\"\n",
        "    elif isinstance(data, list):\n",
        "        for item in data:\n",
        "            if isinstance(item, (dict, list, BaseModel)):\n",
        "                markdown += to_markdown(item, indent)\n",
        "            else:\n",
        "                markdown += f\"- {item}\\n\"\n",
        "        markdown += \"\\n\"\n",
        "    else:\n",
        "        markdown += f\"{data}\\n\\n\"\n",
        "    return markdown\n",
        "\n",
        "# mock database\n",
        "shipping_info_db: Dict[str, str] = {\n",
        "    \"#12345\": \"Shipped on 2024-12-01\",\n",
        "    \"#67890\": \"Out for delivery\",\n",
        "}\n",
        "\n",
        "def print_all_messages(response):\n",
        "    for message in response.all_messages():\n",
        "        print(message)"
      ],
      "metadata": {
        "id": "1vLU-oMN8U81"
      },
      "execution_count": 28,
      "outputs": []
    },
    {
      "cell_type": "code",
      "source": [
        "#### SETUP MODEL ####\n",
        "from pydantic_ai.models.openai import OpenAIModel\n",
        "\n",
        "if \"OPENAI_API_KEY\" not in os.environ:\n",
        "    from google.colab import userdata\n",
        "    os.environ[\"OPENAI_API_KEY\"] = userdata.get(\"OPENAI_API_KEY\")\n",
        "\n",
        "model = OpenAIModel(\"gpt-4o\")"
      ],
      "metadata": {
        "id": "bn8x3_SwI4s5"
      },
      "execution_count": 5,
      "outputs": []
    },
    {
      "cell_type": "code",
      "source": [
        "#### CREATE RESPONSE MODEL ####\n",
        "\n",
        "class ResponseModel(BaseModel):\n",
        "    response: str\n",
        "    needs_escalation: bool\n",
        "    follow_up_required: bool\n",
        "    sentiment: str = Field(description=\"Customer sentiment analysis\")"
      ],
      "metadata": {
        "id": "KOQtPVp5bGbs"
      },
      "execution_count": 6,
      "outputs": []
    },
    {
      "cell_type": "code",
      "source": [
        "### CREATE DEPENDENCIES ####\n",
        "\n",
        "class Order(BaseModel):\n",
        "    order_id: str\n",
        "    status: str\n",
        "    items: list[str]\n",
        "\n",
        "class CustomerDetails(BaseModel):\n",
        "    customer_id: str\n",
        "    name: str\n",
        "    email: str\n",
        "    orders: Optional[List[Order]] = None"
      ],
      "metadata": {
        "id": "tAJSNe7B6PhN"
      },
      "execution_count": 7,
      "outputs": []
    },
    {
      "cell_type": "code",
      "source": [
        "#### CREATE AGENTS ####\n",
        "from pydantic_ai import Agent, RunContext, Tool, ModelRetry\n",
        "\n",
        "agent = Agent(\n",
        "    model=model,\n",
        "    result_type=ResponseModel,\n",
        "    deps_type=CustomerDetails,\n",
        "    retries=3,\n",
        "    system_prompt=(\n",
        "        \"You are an intelligent customer support agent. \"\n",
        "        \"Analyze queries carefully and provide structured responses. \"\n",
        "        \"Use tools to look up relevant information.\"\n",
        "        \"Always great the customer and provide a helpful response.\"\n",
        "    ),  # These are known when writing the code\n",
        "    tools=[Tool(get_shipping_info, takes_ctx=True)],  # Add tool via kwarg\n",
        ")\n",
        "\n",
        "# Add dynamic system prompt based on dependencies\n",
        "@agent.system_prompt\n",
        "async def add_customer_name(ctx: RunContext[CustomerDetails]) -> str:\n",
        "    return f\"Customer details: {to_markdown(ctx.deps)}\""
      ],
      "metadata": {
        "id": "p2h_5pizKS4x"
      },
      "execution_count": 29,
      "outputs": []
    },
    {
      "cell_type": "code",
      "source": [
        "#### TOOLS ####\n",
        "\n",
        "@agent.tool_plain()\n",
        "def get_shipping_status(order_id: str) -> str:\n",
        "    \"\"\"Get the shipping status for a given order ID.\"\"\"\n",
        "    shipping_status = shipping_info_db.get(order_id)\n",
        "    if shipping_status is None:\n",
        "        raise ModelRetry(\n",
        "            f\"No shipping information found for order ID {order_id}. \"\n",
        "            \"Make sure the order ID starts with a #: e.g, #624743 \"\n",
        "            \"Self-correct this if needed and try again.\"\n",
        "        )\n",
        "    return shipping_info_db[order_id]"
      ],
      "metadata": {
        "id": "QyQR1UgTos_Z"
      },
      "execution_count": 30,
      "outputs": []
    },
    {
      "cell_type": "code",
      "source": [
        "customer = CustomerDetails(\n",
        "    customer_id=\"1\",\n",
        "    name=\"John Doe\",\n",
        "    email=\"john.doe@example.com\",\n",
        ")\n",
        "\n",
        "response = await agent.run(\"What's the status of my last order 12345?\", deps=customer)\n",
        "\n",
        "print_all_messages(response)\n",
        "# print(response.usage())"
      ],
      "metadata": {
        "colab": {
          "base_uri": "https://localhost:8080/"
        },
        "id": "Zy4Z9gQTK8JE",
        "outputId": "e23de4c9-0ea8-4f63-a029-7cdfc898fb8e"
      },
      "execution_count": 31,
      "outputs": [
        {
          "output_type": "stream",
          "name": "stdout",
          "text": [
            "ModelRequest(parts=[SystemPromptPart(content='You are an intelligent customer support agent. Analyze queries carefully and provide structured responses. Use tools to look up relevant information.Always great the customer and provide a helpful response.', timestamp=datetime.datetime(2025, 3, 27, 12, 47, 23, 304012, tzinfo=datetime.timezone.utc), dynamic_ref=None, part_kind='system-prompt'), SystemPromptPart(content='Customer details: ## CUSTOMER_ID\\n1\\n\\n## NAME\\nJohn Doe\\n\\n## EMAIL\\njohn.doe@example.com\\n\\n## ORDERS\\nNone\\n\\n', timestamp=datetime.datetime(2025, 3, 27, 12, 47, 23, 304117, tzinfo=datetime.timezone.utc), dynamic_ref=None, part_kind='system-prompt'), UserPromptPart(content=\"What's the status of my last order 12345?\", timestamp=datetime.datetime(2025, 3, 27, 12, 47, 23, 304123, tzinfo=datetime.timezone.utc), part_kind='user-prompt')], kind='request')\n",
            "ModelResponse(parts=[ToolCallPart(tool_name='get_shipping_status', args='{\"order_id\":\"12345\"}', tool_call_id='call_v56NPAOwJvdn0gQGVq1reEDv', part_kind='tool-call')], model_name='gpt-4o-2024-08-06', timestamp=datetime.datetime(2025, 3, 27, 12, 47, 23, tzinfo=datetime.timezone.utc), kind='response')\n",
            "ModelRequest(parts=[RetryPromptPart(content='No shipping information found for order ID 12345. Make sure the order ID starts with a #: e.g, #624743 Self-correct this if needed and try again.', tool_name='get_shipping_status', tool_call_id='call_v56NPAOwJvdn0gQGVq1reEDv', timestamp=datetime.datetime(2025, 3, 27, 12, 47, 24, 263063, tzinfo=datetime.timezone.utc), part_kind='retry-prompt')], kind='request')\n",
            "ModelResponse(parts=[ToolCallPart(tool_name='final_result', args='{\"response\":\"Hi John, it seems there is no shipping information available for order ID 12345. Please check to ensure the order ID is correct and formatted as \\\\\"#\\\\\" followed by the number. If you have any additional details about the order, or need further assistance, feel free to let me know!\",\"needs_escalation\":false,\"follow_up_required\":false,\"sentiment\":\"neutral\"}', tool_call_id='call_n7fFp9DTa5n3MEbpspUJ8deX', part_kind='tool-call')], model_name='gpt-4o-2024-08-06', timestamp=datetime.datetime(2025, 3, 27, 12, 47, 24, tzinfo=datetime.timezone.utc), kind='response')\n",
            "ModelRequest(parts=[ToolReturnPart(tool_name='final_result', content='Final result processed.', tool_call_id='call_n7fFp9DTa5n3MEbpspUJ8deX', timestamp=datetime.datetime(2025, 3, 27, 12, 47, 26, 822221, tzinfo=datetime.timezone.utc), part_kind='tool-return')], kind='request')\n"
          ]
        }
      ]
    },
    {
      "cell_type": "code",
      "source": [
        "print(response.data.model_dump_json(indent=2))"
      ],
      "metadata": {
        "colab": {
          "base_uri": "https://localhost:8080/"
        },
        "id": "xuDzGuGoLTSA",
        "outputId": "142770b2-7519-415f-c3dc-401d8df6adff"
      },
      "execution_count": 32,
      "outputs": [
        {
          "output_type": "stream",
          "name": "stdout",
          "text": [
            "{\n",
            "  \"response\": \"Hi John, it seems there is no shipping information available for order ID 12345. Please check to ensure the order ID is correct and formatted as \\\"#\\\" followed by the number. If you have any additional details about the order, or need further assistance, feel free to let me know!\",\n",
            "  \"needs_escalation\": false,\n",
            "  \"follow_up_required\": false,\n",
            "  \"sentiment\": \"neutral\"\n",
            "}\n"
          ]
        }
      ]
    },
    {
      "cell_type": "code",
      "source": [
        "print(\n",
        "    \"Customer Details:\\n\"\n",
        "    f\"Name: {customer.name}\\n\"\n",
        "    f\"Email: {customer.email}\\n\\n\"\n",
        "    \"Response Details:\\n\"\n",
        "    f\"{response.data.response}\\n\\n\"\n",
        "    \"Status:\\n\"\n",
        "    f\"Follow-up Required: {response.data.follow_up_required}\\n\"\n",
        "    f\"Needs Escalation: {response.data.needs_escalation}\"\n",
        ")"
      ],
      "metadata": {
        "id": "22wo6l9Qadx_",
        "colab": {
          "base_uri": "https://localhost:8080/"
        },
        "outputId": "013b48d3-6bb6-40f2-c436-b1c1f05e0d47"
      },
      "execution_count": 33,
      "outputs": [
        {
          "output_type": "stream",
          "name": "stdout",
          "text": [
            "Customer Details:\n",
            "Name: John Doe\n",
            "Email: john.doe@example.com\n",
            "\n",
            "Response Details:\n",
            "Hi John, it seems there is no shipping information available for order ID 12345. Please check to ensure the order ID is correct and formatted as \"#\" followed by the number. If you have any additional details about the order, or need further assistance, feel free to let me know!\n",
            "\n",
            "Status:\n",
            "Follow-up Required: False\n",
            "Needs Escalation: False\n"
          ]
        }
      ]
    },
    {
      "cell_type": "code",
      "source": [
        "customer = CustomerDetails(\n",
        "    customer_id=\"1\",\n",
        "    name=\"John Doe\",\n",
        "    email=\"john.doe@example.com\"\n",
        ")\n",
        "\n",
        "response = await agent.run(\"Oh ok, the shipping order id was #12345.\", deps=customer)\n",
        "\n",
        "print_all_messages(response)\n",
        "# print(response.usage())"
      ],
      "metadata": {
        "id": "fK_OpDruavxU",
        "colab": {
          "base_uri": "https://localhost:8080/"
        },
        "outputId": "e8232411-d255-4dc8-ae5a-071649cfd9c6"
      },
      "execution_count": 37,
      "outputs": [
        {
          "output_type": "stream",
          "name": "stdout",
          "text": [
            "ModelRequest(parts=[SystemPromptPart(content='You are an intelligent customer support agent. Analyze queries carefully and provide structured responses. Use tools to look up relevant information.Always great the customer and provide a helpful response.', timestamp=datetime.datetime(2025, 3, 27, 12, 51, 22, 869745, tzinfo=datetime.timezone.utc), dynamic_ref=None, part_kind='system-prompt'), SystemPromptPart(content='Customer details: ## CUSTOMER_ID\\n1\\n\\n## NAME\\nJohn Doe\\n\\n## EMAIL\\njohn.doe@example.com\\n\\n## ORDERS\\nNone\\n\\n', timestamp=datetime.datetime(2025, 3, 27, 12, 51, 22, 869876, tzinfo=datetime.timezone.utc), dynamic_ref=None, part_kind='system-prompt'), UserPromptPart(content='Oh ok, the shipping order id was #12345.', timestamp=datetime.datetime(2025, 3, 27, 12, 51, 22, 869885, tzinfo=datetime.timezone.utc), part_kind='user-prompt')], kind='request')\n",
            "ModelResponse(parts=[ToolCallPart(tool_name='get_shipping_status', args='{\"order_id\":\"12345\"}', tool_call_id='call_3JOUrc0ML0unMKqOMQ0OxVGT', part_kind='tool-call')], model_name='gpt-4o-2024-08-06', timestamp=datetime.datetime(2025, 3, 27, 12, 51, 23, tzinfo=datetime.timezone.utc), kind='response')\n",
            "ModelRequest(parts=[RetryPromptPart(content='No shipping information found for order ID 12345. Make sure the order ID starts with a #: e.g, #624743 Self-correct this if needed and try again.', tool_name='get_shipping_status', tool_call_id='call_3JOUrc0ML0unMKqOMQ0OxVGT', timestamp=datetime.datetime(2025, 3, 27, 12, 51, 23, 844251, tzinfo=datetime.timezone.utc), part_kind='retry-prompt')], kind='request')\n",
            "ModelResponse(parts=[ToolCallPart(tool_name='final_result', args='{\"response\":\"I\\'m sorry, but it seems there is no shipping information available for order ID #12345 at the moment. Please double-check the order ID for any typographical errors, or let me know if there\\'s anything else I can assist you with!\",\"needs_escalation\":false,\"follow_up_required\":false,\"sentiment\":\"neutral\"}', tool_call_id='call_WNDzHi9cMaftqaerNJEx5ANC', part_kind='tool-call')], model_name='gpt-4o-2024-08-06', timestamp=datetime.datetime(2025, 3, 27, 12, 51, 24, tzinfo=datetime.timezone.utc), kind='response')\n",
            "ModelRequest(parts=[ToolReturnPart(tool_name='final_result', content='Final result processed.', tool_call_id='call_WNDzHi9cMaftqaerNJEx5ANC', timestamp=datetime.datetime(2025, 3, 27, 12, 51, 26, 703046, tzinfo=datetime.timezone.utc), part_kind='tool-return')], kind='request')\n"
          ]
        }
      ]
    },
    {
      "cell_type": "code",
      "source": [
        "print(response.data.model_dump_json(indent=2))"
      ],
      "metadata": {
        "colab": {
          "base_uri": "https://localhost:8080/"
        },
        "id": "YoSlPLQJoY6h",
        "outputId": "709cc868-48a0-47a2-b82a-38387825f7a7"
      },
      "execution_count": 38,
      "outputs": [
        {
          "output_type": "stream",
          "name": "stdout",
          "text": [
            "{\n",
            "  \"response\": \"I'm sorry, but it seems there is no shipping information available for order ID #12345 at the moment. Please double-check the order ID for any typographical errors, or let me know if there's anything else I can assist you with!\",\n",
            "  \"needs_escalation\": false,\n",
            "  \"follow_up_required\": false,\n",
            "  \"sentiment\": \"neutral\"\n",
            "}\n"
          ]
        }
      ]
    },
    {
      "cell_type": "code",
      "source": [
        "print(\n",
        "    \"Customer Details:\\n\"\n",
        "    f\"Name: {customer.name}\\n\"\n",
        "    f\"Email: {customer.email}\\n\\n\"\n",
        "    \"Response Details:\\n\"\n",
        "    f\"{response.data.response}\\n\\n\"\n",
        "    \"Status:\\n\"\n",
        "    f\"Follow-up Required: {response.data.follow_up_required}\\n\"\n",
        "    f\"Needs Escalation: {response.data.needs_escalation}\"\n",
        ")"
      ],
      "metadata": {
        "colab": {
          "base_uri": "https://localhost:8080/"
        },
        "id": "q-0d-mmboaSw",
        "outputId": "75cd2642-3690-48fd-862c-17f13d85c486"
      },
      "execution_count": 39,
      "outputs": [
        {
          "output_type": "stream",
          "name": "stdout",
          "text": [
            "Customer Details:\n",
            "Name: John Doe\n",
            "Email: john.doe@example.com\n",
            "\n",
            "Response Details:\n",
            "I'm sorry, but it seems there is no shipping information available for order ID #12345 at the moment. Please double-check the order ID for any typographical errors, or let me know if there's anything else I can assist you with!\n",
            "\n",
            "Status:\n",
            "Follow-up Required: False\n",
            "Needs Escalation: False\n"
          ]
        }
      ]
    }
  ]
}