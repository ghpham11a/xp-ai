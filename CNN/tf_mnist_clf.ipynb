{
  "nbformat": 4,
  "nbformat_minor": 0,
  "metadata": {
    "colab": {
      "provenance": [],
      "machine_shape": "hm",
      "gpuType": "A100"
    },
    "kernelspec": {
      "name": "python3",
      "display_name": "Python 3"
    },
    "language_info": {
      "name": "python"
    },
    "accelerator": "GPU"
  },
  "cells": [
    {
      "cell_type": "code",
      "execution_count": 2,
      "metadata": {
        "colab": {
          "base_uri": "https://localhost:8080/"
        },
        "id": "qhHQJYxr-NYL",
        "outputId": "988998f5-e6e0-4245-d2a6-672aa13a46e7"
      },
      "outputs": [
        {
          "output_type": "stream",
          "name": "stdout",
          "text": [
            "TensorFlow version: 2.18.0\n"
          ]
        },
        {
          "output_type": "execute_result",
          "data": {
            "text/plain": [
              "[PhysicalDevice(name='/physical_device:GPU:0', device_type='GPU')]"
            ]
          },
          "metadata": {},
          "execution_count": 2
        }
      ],
      "source": [
        "import tensorflow as tf\n",
        "print(\"TensorFlow version:\", tf.__version__)\n",
        "\n",
        "from tensorflow.keras.layers import Dense, Flatten, Conv2D\n",
        "from tensorflow.keras import Model\n",
        "\n",
        "tf.config.list_physical_devices('GPU')"
      ]
    },
    {
      "cell_type": "code",
      "source": [
        "mnist = tf.keras.datasets.mnist\n",
        "\n",
        "(x_train, y_train), (x_test, y_test) = mnist.load_data()\n",
        "x_train, x_test = x_train / 255.0, x_test / 255.0\n",
        "\n",
        "# Add a channels dimension\n",
        "x_train = x_train[..., tf.newaxis].astype(\"float32\")\n",
        "x_test = x_test[..., tf.newaxis].astype(\"float32\")"
      ],
      "metadata": {
        "colab": {
          "base_uri": "https://localhost:8080/"
        },
        "id": "dX_9cWyh_kPE",
        "outputId": "7b2e13d0-f1b0-43b6-b836-f56498378a62"
      },
      "execution_count": 3,
      "outputs": [
        {
          "output_type": "stream",
          "name": "stdout",
          "text": [
            "Downloading data from https://storage.googleapis.com/tensorflow/tf-keras-datasets/mnist.npz\n",
            "\u001b[1m11490434/11490434\u001b[0m \u001b[32m━━━━━━━━━━━━━━━━━━━━\u001b[0m\u001b[37m\u001b[0m \u001b[1m2s\u001b[0m 0us/step\n"
          ]
        }
      ]
    },
    {
      "cell_type": "code",
      "source": [
        "train_ds = tf.data.Dataset.from_tensor_slices(\n",
        "    (x_train, y_train)).shuffle(10000).batch(32)\n",
        "\n",
        "test_ds = tf.data.Dataset.from_tensor_slices((x_test, y_test)).batch(32)"
      ],
      "metadata": {
        "id": "aZgk0Vs1_rut"
      },
      "execution_count": 4,
      "outputs": []
    },
    {
      "cell_type": "code",
      "source": [
        "class CNN(Model):\n",
        "\n",
        "    def __init__(self, **kwargs):\n",
        "        super().__init__(**kwargs)\n",
        "        self.conv_1 = Conv2D(32, 3, activation=\"relu\")\n",
        "        self.flatten = Flatten()\n",
        "        self.fcn_1 = Dense(128, activation=\"relu\")\n",
        "        self.fcn_2 = Dense(10)\n",
        "\n",
        "    def call(self, x):\n",
        "        x = self.conv_1(x)\n",
        "        x = self.flatten(x)\n",
        "        x = self.fcn_1(x)\n",
        "        x = self.fcn_2(x)\n",
        "        return x\n",
        "\n",
        "    def get_config(self):\n",
        "        \"\"\"\n",
        "        Return the configuration of the model.\n",
        "        This is optional but recommended if you want Keras to be able\n",
        "        to clone and serialize this model cleanly.\n",
        "        \"\"\"\n",
        "        base_config = super().get_config()\n",
        "        # If you had custom arguments to your layers, you'd return them here as well.\n",
        "        return {\n",
        "            **base_config,\n",
        "        }\n",
        "\n",
        "model = CNN()"
      ],
      "metadata": {
        "id": "iyho5Aw6_udb"
      },
      "execution_count": 24,
      "outputs": []
    },
    {
      "cell_type": "code",
      "source": [
        "loss_object = tf.keras.losses.SparseCategoricalCrossentropy(from_logits=True)\n",
        "\n",
        "optimizer = tf.keras.optimizers.Adam()"
      ],
      "metadata": {
        "id": "fhSNyZJ1BVzG"
      },
      "execution_count": 25,
      "outputs": []
    },
    {
      "cell_type": "code",
      "source": [
        "train_loss = tf.keras.metrics.Mean(name='train_loss')\n",
        "train_accuracy = tf.keras.metrics.SparseCategoricalAccuracy(name='train_accuracy')\n",
        "\n",
        "test_loss = tf.keras.metrics.Mean(name='test_loss')\n",
        "test_accuracy = tf.keras.metrics.SparseCategoricalAccuracy(name='test_accuracy')"
      ],
      "metadata": {
        "id": "FGoEMl2jBXkt"
      },
      "execution_count": 26,
      "outputs": []
    },
    {
      "cell_type": "code",
      "source": [
        "@tf.function\n",
        "def train_step(images, labels):\n",
        "  with tf.GradientTape() as tape:\n",
        "    # training=True is only needed if there are layers with different\n",
        "    # behavior during training versus inference (e.g. Dropout).\n",
        "    predictions = model(images, training=True)\n",
        "    loss = loss_object(labels, predictions)\n",
        "  gradients = tape.gradient(loss, model.trainable_variables)\n",
        "  optimizer.apply_gradients(zip(gradients, model.trainable_variables))\n",
        "\n",
        "  train_loss(loss)\n",
        "  train_accuracy(labels, predictions)"
      ],
      "metadata": {
        "id": "uns4wHIUBZOC"
      },
      "execution_count": 27,
      "outputs": []
    },
    {
      "cell_type": "code",
      "source": [
        "@tf.function\n",
        "def test_step(images, labels):\n",
        "  # training=False is only needed if there are layers with different\n",
        "  # behavior during training versus inference (e.g. Dropout).\n",
        "  predictions = model(images, training=False)\n",
        "  t_loss = loss_object(labels, predictions)\n",
        "\n",
        "  test_loss(t_loss)\n",
        "  test_accuracy(labels, predictions)"
      ],
      "metadata": {
        "id": "wkShicufBeie"
      },
      "execution_count": 28,
      "outputs": []
    },
    {
      "cell_type": "code",
      "source": [
        "EPOCHS = 5\n",
        "\n",
        "for epoch in range(EPOCHS):\n",
        "  # Reset the metrics at the start of the next epoch\n",
        "  train_loss.reset_state()\n",
        "  train_accuracy.reset_state()\n",
        "  test_loss.reset_state()\n",
        "  test_accuracy.reset_state()\n",
        "\n",
        "  for images, labels in train_ds:\n",
        "    train_step(images, labels)\n",
        "\n",
        "  for test_images, test_labels in test_ds:\n",
        "    test_step(test_images, test_labels)\n",
        "\n",
        "  print(\n",
        "    f'Epoch {epoch + 1}, '\n",
        "    f'Loss: {train_loss.result():0.2f}, '\n",
        "    f'Accuracy: {train_accuracy.result() * 100:0.2f}, '\n",
        "    f'Test Loss: {test_loss.result():0.2f}, '\n",
        "    f'Test Accuracy: {test_accuracy.result() * 100:0.2f}'\n",
        "  )"
      ],
      "metadata": {
        "colab": {
          "base_uri": "https://localhost:8080/"
        },
        "id": "VzqxrjvbBgmn",
        "outputId": "71b8f6a5-07fa-45ed-ba3b-b2a8817929c1"
      },
      "execution_count": 29,
      "outputs": [
        {
          "output_type": "stream",
          "name": "stdout",
          "text": [
            "Epoch 1, Loss: 0.13, Accuracy: 96.11, Test Loss: 0.06, Test Accuracy: 98.02\n",
            "Epoch 2, Loss: 0.04, Accuracy: 98.75, Test Loss: 0.05, Test Accuracy: 98.42\n",
            "Epoch 3, Loss: 0.02, Accuracy: 99.34, Test Loss: 0.06, Test Accuracy: 98.24\n",
            "Epoch 4, Loss: 0.01, Accuracy: 99.62, Test Loss: 0.06, Test Accuracy: 98.36\n",
            "Epoch 5, Loss: 0.01, Accuracy: 99.72, Test Loss: 0.06, Test Accuracy: 98.35\n"
          ]
        }
      ]
    },
    {
      "cell_type": "code",
      "source": [
        "model.save(\"tf_mnist_clf.keras\")"
      ],
      "metadata": {
        "id": "QRZCkrpDDN1z"
      },
      "execution_count": 30,
      "outputs": []
    },
    {
      "cell_type": "code",
      "source": [
        "new_model = tf.keras.models.load_model(\n",
        "    \"tf_mnist_clf.keras\",\n",
        "    custom_objects={\"CNN\": CNN}  # Only needed if TensorFlow cannot automatically detect the custom class\n",
        ")\n",
        "\n",
        "new_model.compile(\n",
        "    optimizer='adam',\n",
        "    loss=tf.keras.losses.SparseCategoricalCrossentropy(from_logits=True),\n",
        "    metrics=['accuracy']\n",
        ")"
      ],
      "metadata": {
        "id": "8KKoj8VrD6P4"
      },
      "execution_count": 33,
      "outputs": []
    },
    {
      "cell_type": "code",
      "source": [
        "# Evaluate the loaded model on the test data\n",
        "test_loss, test_accuracy = new_model.evaluate(x_test, y_test, verbose=2)\n",
        "print(f\"Test Loss: {test_loss:.4f}, Test Accuracy: {test_accuracy:.4f}\")\n",
        "\n",
        "# Make predictions on a small batch of test images (e.g., first 5 images)\n",
        "predictions = new_model.predict(x_test[:5])\n",
        "print(\"Predictions shape:\", predictions.shape)\n",
        "print(\"Predictions (logits) for first 5 test samples:\\n\", predictions)\n",
        "\n",
        "# Optionally, you can see which class has the highest logit for the first sample\n",
        "import numpy as np\n",
        "predicted_labels = np.argmax(predictions, axis=1)\n",
        "print(\"Predicted labels for first 5 test samples:\", predicted_labels)\n",
        "print(\"True labels for first 5 test samples:\", y_test[:5])"
      ],
      "metadata": {
        "colab": {
          "base_uri": "https://localhost:8080/"
        },
        "id": "uXXbfPVhEQwh",
        "outputId": "72d6d710-28b3-42f7-9ed4-6c5232e6b40c"
      },
      "execution_count": 34,
      "outputs": [
        {
          "output_type": "stream",
          "name": "stdout",
          "text": [
            "313/313 - 2s - 7ms/step - accuracy: 0.9835 - loss: 0.0572\n",
            "Test Loss: 0.0572, Test Accuracy: 0.9835\n",
            "\u001b[1m1/1\u001b[0m \u001b[32m━━━━━━━━━━━━━━━━━━━━\u001b[0m\u001b[37m\u001b[0m \u001b[1m1s\u001b[0m 538ms/step\n",
            "Predictions shape: (5, 10)\n",
            "Predictions (logits) for first 5 test samples:\n",
            " [[ -8.960968    -3.6098053   -1.9047667    3.8425546  -16.239109\n",
            "   -7.246529   -23.59654     18.997494    -4.2936597    0.82871115]\n",
            " [ -2.0110133    3.7466779   24.194775    -3.6799045  -10.3846655\n",
            "  -15.953404    -3.0973895  -12.947412    -7.850632    -8.3854475 ]\n",
            " [ -5.1603994   12.16938     -5.5844026  -14.708157     1.2995207\n",
            "   -4.4629374   -5.1674304   -2.074558     0.31868565  -7.479786  ]\n",
            " [ 19.675869   -12.392718    -0.98889226  -9.754522    -6.913312\n",
            "   -8.05639      1.7450628   -3.2789075   -2.6150756   -2.8733907 ]\n",
            " [ -3.360126    -8.127602    -6.508153    -9.097588    19.347935\n",
            "   -3.2268329   -3.5319448   -1.4711944   -2.4427676    8.955972  ]]\n",
            "Predicted labels for first 5 test samples: [7 2 1 0 4]\n",
            "True labels for first 5 test samples: [7 2 1 0 4]\n"
          ]
        }
      ]
    }
  ]
}